{
 "cells": [
  {
   "cell_type": "markdown",
   "metadata": {},
   "source": [
    "Inspiration for Neural Net: https://pytorch.org/tutorials/beginner/nlp/sequence_models_tutorial.html"
   ]
  },
  {
   "cell_type": "markdown",
   "metadata": {},
   "source": [
    "# Data Pre-Processing"
   ]
  },
  {
   "cell_type": "code",
   "execution_count": 1,
   "metadata": {
    "scrolled": true
   },
   "outputs": [
    {
     "data": {
      "text/plain": [
       "<torch._C.Generator at 0x7f0187726eb0>"
      ]
     },
     "execution_count": 1,
     "metadata": {},
     "output_type": "execute_result"
    }
   ],
   "source": [
    "import pandas as pd\n",
    "import torch\n",
    "import torch.nn as nn\n",
    "import torch.nn.functional as F\n",
    "import torch.optim as optim\n",
    "import pitcher\n",
    "from random import shuffle\n",
    "torch.manual_seed(1)"
   ]
  },
  {
   "cell_type": "code",
   "execution_count": 40,
   "metadata": {},
   "outputs": [],
   "source": [
    "player = 'lester'\n",
    "data = pd.read_csv('Data/raw_data/'+player+'.csv')\n",
    "data = pitcher.clean_data(data)\n",
    "ABs = pitcher.get_abs(data)\n",
    "reps = pitcher.get_reps(ABs)\n",
    "reps = pitcher.drop_nas(reps)"
   ]
  },
  {
   "cell_type": "code",
   "execution_count": 70,
   "metadata": {},
   "outputs": [
    {
     "data": {
      "text/plain": [
       "46"
      ]
     },
     "execution_count": 70,
     "metadata": {},
     "output_type": "execute_result"
    }
   ],
   "source": [
    "len(ABs1[0][0])"
   ]
  },
  {
   "cell_type": "code",
   "execution_count": 95,
   "metadata": {},
   "outputs": [],
   "source": [
    "player = 'verlander'\n",
    "data = pd.read_csv('Data/raw_data/'+player+'.csv')\n",
    "data = pitcher.clean_data(data)\n",
    "ABs = pitcher.get_abs(data)\n",
    "reps = get_reps(ABs)"
   ]
  },
  {
   "cell_type": "code",
   "execution_count": 76,
   "metadata": {},
   "outputs": [
    {
     "data": {
      "text/plain": [
       "[array([430203, 'CH', -2.553030833333333, 1.0261733333333332, 84.2, -0.512,\n",
       "        1.932, 1, 1, 0, 0, 0, 1, 0, 0, 0, 1, 0, 0, 1, 0, 0, 1, 0, 0, 0, 0,\n",
       "        0, 0, 0, 0, 0, 0, 0, 0, 0, 0, 0, 1, 0, 0, 0, 0, 0, 0, 0],\n",
       "       dtype=object),\n",
       " array([430203, nan, nan, nan, nan, nan, nan, 1, 1, 0, 0, 0, 0, 1, 0, 0, 1,\n",
       "        0, 0, 1, 0, 0, 0, 0, 1, 0, 0, 0, 0, 0, 0, 0, 0, 0, 0, 0, 0, 0, 0,\n",
       "        0, 0, 0, 0, 0, 0, 0], dtype=object),\n",
       " array([430203, nan, nan, nan, nan, nan, nan, 1, 1, 0, 0, 0, 0, 1, 0, 0, 0,\n",
       "        1, 0, 1, 0, 0, 0, 0, 0, 0, 0, 0, 0, 1, 0, 0, 0, 0, 0, 0, 0, 0, 0,\n",
       "        0, 0, 0, 0, 0, 0, 0], dtype=object),\n",
       " array([115210, 'CH', -0.8984783333333333, -0.2644, 82.5, 0.682, 1.455, 0,\n",
       "        1, 0, 0, 0, 1, 0, 0, 0, 1, 0, 0, 0, 1, 0, 0, 0, 1, 0, 0, 0, 0, 0,\n",
       "        0, 0, 0, 0, 0, 0, 0, 0, 1, 0, 0, 0, 0, 0, 0, 0], dtype=object)]"
      ]
     },
     "execution_count": 76,
     "metadata": {},
     "output_type": "execute_result"
    }
   ],
   "source": [
    "ABs[0]"
   ]
  },
  {
   "cell_type": "code",
   "execution_count": 88,
   "metadata": {},
   "outputs": [
    {
     "data": {
      "text/plain": [
       "([[0, 0, 0, 0, 0, 0, 0, 0, 0, 0, 0, 0, 0, 0, 0, 0, 0, 0, 0, 0, 0, 0, 0, 0, 0],\n",
       "  [-2.553030833333333,\n",
       "   1.0261733333333332,\n",
       "   84.2,\n",
       "   -0.512,\n",
       "   1.932,\n",
       "   1,\n",
       "   0,\n",
       "   0,\n",
       "   0,\n",
       "   0,\n",
       "   0,\n",
       "   0,\n",
       "   0,\n",
       "   0,\n",
       "   0,\n",
       "   0,\n",
       "   0,\n",
       "   0,\n",
       "   0,\n",
       "   0,\n",
       "   0,\n",
       "   1,\n",
       "   0,\n",
       "   0,\n",
       "   0],\n",
       "  [nan,\n",
       "   nan,\n",
       "   nan,\n",
       "   nan,\n",
       "   nan,\n",
       "   0,\n",
       "   0,\n",
       "   1,\n",
       "   0,\n",
       "   0,\n",
       "   0,\n",
       "   0,\n",
       "   0,\n",
       "   0,\n",
       "   0,\n",
       "   0,\n",
       "   0,\n",
       "   0,\n",
       "   0,\n",
       "   0,\n",
       "   0,\n",
       "   0,\n",
       "   0,\n",
       "   0,\n",
       "   0],\n",
       "  [nan,\n",
       "   nan,\n",
       "   nan,\n",
       "   nan,\n",
       "   nan,\n",
       "   0,\n",
       "   0,\n",
       "   0,\n",
       "   0,\n",
       "   0,\n",
       "   0,\n",
       "   0,\n",
       "   1,\n",
       "   0,\n",
       "   0,\n",
       "   0,\n",
       "   0,\n",
       "   0,\n",
       "   0,\n",
       "   0,\n",
       "   0,\n",
       "   0,\n",
       "   0,\n",
       "   0,\n",
       "   0],\n",
       "  [-0.8984783333333333,\n",
       "   -0.2644,\n",
       "   82.5,\n",
       "   0.682,\n",
       "   1.455,\n",
       "   0,\n",
       "   0,\n",
       "   1,\n",
       "   0,\n",
       "   0,\n",
       "   0,\n",
       "   0,\n",
       "   0,\n",
       "   0,\n",
       "   0,\n",
       "   0,\n",
       "   0,\n",
       "   0,\n",
       "   0,\n",
       "   0,\n",
       "   0,\n",
       "   1,\n",
       "   0,\n",
       "   0,\n",
       "   0],\n",
       "  [0, 0, 0, 0, 0, 0, 0, 0, 0, 0, 0, 0, 0, 0, 0, 0, 0, 0, 0, 0, 0, 0, 0, 0, 0]],\n",
       " [[1, 1, 0, 0, 0, 1, 0, 0, 0, 1, 0, 0, 1, 0, 0],\n",
       "  [1, 1, 0, 0, 0, 0, 1, 0, 0, 1, 0, 0, 1, 0, 0],\n",
       "  [1, 1, 0, 0, 0, 0, 1, 0, 0, 0, 1, 0, 1, 0, 0],\n",
       "  [0, 1, 0, 0, 0, 1, 0, 0, 0, 1, 0, 0, 0, 1, 0],\n",
       "  [0, 0, 0, 0, 0, 0, 0, 0, 0, 0, 0, 0, 0, 0, 0],\n",
       "  [0, 0, 0, 0, 0, 0, 0, 0, 0, 0, 0, 0, 0, 0, 0]],\n",
       " ['NF', 'NF', 'NF', 'NF', 'NF', 'NF'])"
      ]
     },
     "execution_count": 88,
     "metadata": {},
     "output_type": "execute_result"
    }
   ],
   "source": [
    "reps[0]"
   ]
  },
  {
   "cell_type": "code",
   "execution_count": 107,
   "metadata": {},
   "outputs": [
    {
     "data": {
      "text/plain": [
       "9776"
      ]
     },
     "execution_count": 107,
     "metadata": {},
     "output_type": "execute_result"
    }
   ],
   "source": [
    "len(reps)"
   ]
  },
  {
   "cell_type": "code",
   "execution_count": 106,
   "metadata": {},
   "outputs": [],
   "source": [
    "good_reps = []\n",
    "for rep in reps:\n",
    "    is_na = False\n",
    "    prevs,states,pitches = rep\n",
    "    for prev in prevs:\n",
    "        for var in prev:\n",
    "            if var != var:\n",
    "                is_na = True\n",
    "    if not is_na:\n",
    "        good_reps.append(rep)\n",
    "        is_na = False\n",
    "reps = good_reps             "
   ]
  },
  {
   "cell_type": "code",
   "execution_count": 86,
   "metadata": {},
   "outputs": [],
   "source": [
    "def get_reps(pitcher_ABs):\n",
    "    reps = []\n",
    "    for AB in pitcher_ABs:\n",
    "        prev_0 = [0]*25\n",
    "        ptypes = []\n",
    "        for pitch in AB:\n",
    "            if pitch[1] != 'FF':\n",
    "                ptypes.append('NF') \n",
    "            else:\n",
    "                ptypes.append('FF')\n",
    "\n",
    "        prev_pitch_cont = [pitch[2:7].tolist() for pitch in AB]\n",
    "        prev_pitch_disc = [pitch[22:38].tolist() for pitch in AB]\n",
    "        ptypes_ = [pitch[38:42].tolist() for pitch in AB]\n",
    "        pitches = zip(prev_pitch_cont,prev_pitch_disc)\n",
    "        ###pitches = zip(prev_pitch_cont,ptypes_)\n",
    "        prevs = [cont + disc for cont,disc in pitches]\n",
    "        #prevs = prev_pitch_cont\n",
    "        pitches_ = zip(prevs,ptypes_)\n",
    "        ###prev_pitches = [prev + ptype for prev,ptype in pitches]\n",
    "        prev_pitches = [prev + ptype for prev,ptype in pitches_]\n",
    "        pre_pitch = [pitch[7:22].tolist() for pitch in AB]\n",
    "        #prev_p = zip(prev_pitches_,pre_pitch)\n",
    "        #prev_pitches = [prev + prepitch for prev,prepitch in prev_p]\n",
    "        AB_len = len(AB)\n",
    "        if AB_len <= 6:\n",
    "            prevs = [prev_0] + prev_pitches + ([prev_0]*(6-(AB_len)-1))\n",
    "            states = pre_pitch + ([[0]*15]*(6-AB_len))\n",
    "            pitches = ptypes + (['NF']*(6-AB_len))\n",
    "        else:\n",
    "            prevs = [prev_0] +[prev_pitches[1:7]]\n",
    "            states = [[0]*15]+[pre_pitch[:7]]\n",
    "            pitches = ['NF'] + [ptypes[:7]]\n",
    "        reps.append((prevs,states,pitches))\n",
    "    return reps"
   ]
  },
  {
   "cell_type": "code",
   "execution_count": null,
   "metadata": {},
   "outputs": [],
   "source": []
  },
  {
   "cell_type": "code",
   "execution_count": 41,
   "metadata": {},
   "outputs": [
    {
     "data": {
      "text/plain": [
       "36986"
      ]
     },
     "execution_count": 41,
     "metadata": {},
     "output_type": "execute_result"
    }
   ],
   "source": [
    "len(data)"
   ]
  },
  {
   "cell_type": "code",
   "execution_count": 3,
   "metadata": {},
   "outputs": [],
   "source": [
    "reps = reps1"
   ]
  },
  {
   "cell_type": "code",
   "execution_count": 67,
   "metadata": {},
   "outputs": [
    {
     "name": "stdout",
     "output_type": "stream",
     "text": [
      "0.90876029521874\n"
     ]
    }
   ],
   "source": [
    "avg = 0\n",
    "for AB in ABs:\n",
    "    if len(AB) <= 6:\n",
    "        avg += 1\n",
    "print(avg/len(ABs))"
   ]
  },
  {
   "cell_type": "code",
   "execution_count": 60,
   "metadata": {},
   "outputs": [],
   "source": [
    "#get train, validate, and test sets (60-20-20)\n",
    "shuffle(reps)\n",
    "cutoff1 = int(len(reps)*0.6)\n",
    "cutoff2 = cutoff1 + int(len(reps)*.2)\n",
    "train = reps[1:cutoff1]\n",
    "validate = reps[cutoff1:cutoff2]\n",
    "test = reps[cutoff2:]\n",
    "\n",
    "\n",
    "#get train, validate, and test batches\n",
    "batch_size = 50\n",
    "train_batches = pitcher.get_batches(train,batch_size)\n",
    "test_batches = pitcher.get_batches(test,batch_size)\n",
    "validate_batches = pitcher.get_batches(validate,batch_size)"
   ]
  },
  {
   "cell_type": "markdown",
   "metadata": {},
   "source": [
    "# Model Construction"
   ]
  },
  {
   "cell_type": "code",
   "execution_count": 5,
   "metadata": {},
   "outputs": [],
   "source": [
    "def test_accuracy(batches,model):\n",
    "    length = len(batches)*len(batches[0][0])\n",
    "    num_right = 0\n",
    "    ch_count = 0\n",
    "    predict_ch = 0\n",
    "    cu_count = 0\n",
    "    predict_cu = 0\n",
    "    sl_count = 0\n",
    "    predict_sl = 0\n",
    "    ff_count = 0\n",
    "    predict_ff = 0\n",
    "    ff_right = 0\n",
    "    ch_right = 0\n",
    "    sl_right = 0\n",
    "    cu_right = 0\n",
    "    for batch in batches:\n",
    "        with torch.no_grad():\n",
    "            prev_pitches,pre_pitch, ptypes = batch\n",
    "            prevs_in = torch.tensor(prev_pitches, dtype=torch.float)\n",
    "            rep_in = torch.tensor(pre_pitch, dtype=torch.float)\n",
    "            #targets = tag_to_ix[ptypes]\n",
    "            if len(ptypes) > 1:\n",
    "                targets = [tag_to_ix[ptype] for ptype in ptypes]\n",
    "            #else:\n",
    "            #    targets = tag_to_ix[ptypes[0]]\n",
    "            if torch.cuda.is_available():\n",
    "                tag_scores = model((prevs_in,rep_in)).cuda()\n",
    "            else:\n",
    "                tag_scores = model((prevs_in,rep_in))\n",
    "            #print(tag_scores)\n",
    "            preds = [tag_score.max(0) for tag_score in tag_scores]\n",
    "            #print(index.item())\n",
    "            if len(ptypes) > 1:\n",
    "                for pred,target in zip(preds,targets):\n",
    "                    _,index = pred\n",
    "                    if target == 1:\n",
    "                        ff_count += 1\n",
    "                    if index.item() == 1:\n",
    "                        predict_ff += 1\n",
    "                    if target == 1 and index.item() == 1:\n",
    "                        ff_right += 1\n",
    "                    if target == 0:\n",
    "                        cu_count += 1\n",
    "                    if index.item() == 0:\n",
    "                        predict_cu += 1\n",
    "                    if target == 0 and index.item() == 0:\n",
    "                        cu_right += 1\n",
    "                    if index.item() == target:\n",
    "                        num_right += 1\n",
    "            else:\n",
    "                _,index = preds[0]\n",
    "                if targets == 1:\n",
    "                    ff_count += 1\n",
    "                if index.item() == 1:\n",
    "                    predict_ff += 1\n",
    "                if targets == 1 and index.item() == 1:\n",
    "                    ff_right += 1\n",
    "                if targets == 0:\n",
    "                    cu_count += 1\n",
    "                if index.item() == 0:\n",
    "                    predict_cu += 1\n",
    "                if targets == 0 and index.item() == 0:\n",
    "                    cu_right += 1\n",
    "                if index.item() == targets:\n",
    "                    num_right += 1\n",
    "    ff_rate = ff_count/length\n",
    "    pred_ff_rate = predict_ff/length\n",
    "    ff_acc = ff_right/ff_count\n",
    "    cu_rate = cu_count/length\n",
    "    pred_cu_rate = predict_cu/length\n",
    "    cu_acc = cu_right/cu_count\n",
    "    accuracy = num_right/length\n",
    "    print(\"______________________________________\")\n",
    "    print(\"Non-Fastball rate:\",cu_rate)\n",
    "    print(\"Predicted Non-Fastball rate:\",pred_cu_rate)\n",
    "    print(\"Non-Fastball accuracy:\",cu_acc)\n",
    "    print(\"______________________________________\")\n",
    "    print(\"Fastball rate:\",ff_rate)\n",
    "    print(\"Predicted Fastball rate:\",pred_ff_rate)\n",
    "    print(\"Fastball accuracy:\",ff_acc)\n",
    "    print(\"______________________________________\")\n",
    "    print(\"Accuracy:\",accuracy)\n",
    "    print(\"Accuracy above naive guess:\",accuracy - ff_rate)\n",
    "    print(\"______________________________________\")"
   ]
  },
  {
   "cell_type": "code",
   "execution_count": 119,
   "metadata": {},
   "outputs": [],
   "source": [
    "#change this for different pitcher\n",
    "'''tag_to_ix = {'CU':0,\n",
    "             'FF':1,\n",
    "             'SL':2,\n",
    "             'CH':3}'''\n",
    "tag_to_ix = {'NF':0,\n",
    "             'FF':1}\n",
    "\n",
    "# -- Input Dimensions -- DO NOT CHANGE\n",
    "PREV_PITCH_DIM = 25\n",
    "NUM_PREV_PITCHES = 6\n",
    "GAME_STATE_DIM = 15 \n",
    "GAME_OUT_DIM = 15\n",
    "\n",
    "# -- Hyperparameters -- DO CHANGE \n",
    "HIDDEN_DIM = 120\n",
    "OUT_DIM = 10\n",
    "lstm_layers = 1\n",
    "learning_rate = 0.0001\n",
    "\n",
    "if torch.cuda.is_available():\n",
    "    torch.set_default_tensor_type(torch.cuda.FloatTensor)\n",
    "    \n",
    "class PitchPredict(nn.Module):\n",
    "    def __init__(self, prev_pitch_dim, hidden_dim, num_prev_pitches,out_dim, game_state_dim, game_out_dim, num_ptypes):\n",
    "        super(PitchPredict, self).__init__()\n",
    "        #get constants\n",
    "        self.hidden_dim = hidden_dim\n",
    "        self.prev_pitch_dim = prev_pitch_dim\n",
    "        self.num_prev_pitches = num_prev_pitches\n",
    "        self.out_dim = out_dim\n",
    "        self.game_state_dim = game_state_dim\n",
    "        self.game_out_dim = game_out_dim\n",
    "        \n",
    "        ####Define Layers####\n",
    "        \n",
    "        ########################## LSTM for past five pitches#######################################\n",
    "        # The LSTM takes previous pitch vectors as inputs, and outputs hidden states\n",
    "        # with dimensionality hidden_dim.\n",
    "        self.lstm = nn.RNN(prev_pitch_dim, hidden_dim,num_layers=lstm_layers,batch_first=True)#FIDDLE WITH num_layers\n",
    "\n",
    "        # The linear layer that maps from hidden state space to a vector\n",
    "        # with dimensionality OUT_DIM\n",
    "        self.hidden2out = nn.Linear(hidden_dim, out_dim)\n",
    "        \n",
    "        ############## FULLY CONNECTED LAYERS for LSTM OUTPUT + game_state vector #################\n",
    "        \n",
    "        # layer to map the game state vector to a different dimension\n",
    "        self.l1 = nn.Linear(self.game_state_dim, self.game_out_dim)  \n",
    "        \n",
    "        # This Fully connected layer maps from the output of the final hidden layer output from the LSTM,\n",
    "        # dimension = OUT_DIM, with the game state vector, dimension = GAME_STATE_DIM\n",
    "        # to a vector of length of the number of ptypes to pass through softmax for probabilities\n",
    "        self.fc1 = nn.Linear((self.out_dim + self.game_out_dim), len(tag_to_ix))\n",
    "\n",
    "                             \n",
    "    def forward(self, rep):\n",
    "        past_pitches,game_states = rep\n",
    "        #print(past_pitches)\n",
    "        lstm_out, _ = self.lstm(past_pitches.view(len(past_pitches), 1, -1))\n",
    "        tag_space = self.hidden2tag(lstm_out.view(len(sentence), -1))\n",
    "        tag_scores = F.log_softmax(tag_space, dim=1)\n",
    "        #lstm_out, _ = self.lstm(past_pitches.view(batch_size,self.num_prev_pitches, -1))\n",
    "        #learned_rep = self.hidden2out(lstm_out.view(batch_size,self.num_prev_pitches, -1))\n",
    "        #game_rep = game_state.view(batch_size,self.game_state_dim)\n",
    "        #game_rep = F.relu(self.l1(game_state.view(batch_size,self.game_state_dim)))\n",
    "        #encoding = learned_rep[:,self.num_prev_pitches - 1:,:]\n",
    "        #fc_in = torch.cat((encoding.view(batch_size,self.out_dim),game_rep.view(batch_size,self.game_out_dim)),dim=1)\n",
    "        #print(learned_rep)\n",
    "        #fc = self.fc1(fc_in.view(batch_size,self.game_out_dim+self.out_dim))\n",
    "        #tag_scores = F.log_softmax(fc,dim=0)\n",
    "        return tag_scores"
   ]
  },
  {
   "cell_type": "code",
   "execution_count": 125,
   "metadata": {},
   "outputs": [
    {
     "data": {
      "text/plain": [
       "[[0, 0, 0, 0, 0, 0, 0, 0, 0, 0, 0, 0, 0, 0, 0, 0, 0, 0, 0, 0, 0, 0, 0, 0, 0],\n",
       " [[nan,\n",
       "   nan,\n",
       "   nan,\n",
       "   nan,\n",
       "   nan,\n",
       "   0,\n",
       "   0,\n",
       "   1,\n",
       "   0,\n",
       "   0,\n",
       "   0,\n",
       "   0,\n",
       "   0,\n",
       "   0,\n",
       "   0,\n",
       "   0,\n",
       "   0,\n",
       "   0,\n",
       "   0,\n",
       "   0,\n",
       "   0,\n",
       "   0,\n",
       "   0,\n",
       "   0,\n",
       "   0],\n",
       "  [-2.3815775,\n",
       "   1.45216,\n",
       "   95.1,\n",
       "   -0.677,\n",
       "   4.144,\n",
       "   1,\n",
       "   0,\n",
       "   0,\n",
       "   0,\n",
       "   0,\n",
       "   0,\n",
       "   0,\n",
       "   0,\n",
       "   0,\n",
       "   0,\n",
       "   0,\n",
       "   0,\n",
       "   0,\n",
       "   0,\n",
       "   0,\n",
       "   0,\n",
       "   0,\n",
       "   0,\n",
       "   0,\n",
       "   0],\n",
       "  [-2.4940241666666667,\n",
       "   0.7893866666666666,\n",
       "   83.6,\n",
       "   -0.698,\n",
       "   3.351,\n",
       "   0,\n",
       "   0,\n",
       "   0,\n",
       "   1,\n",
       "   0,\n",
       "   0,\n",
       "   0,\n",
       "   0,\n",
       "   0,\n",
       "   0,\n",
       "   0,\n",
       "   0,\n",
       "   0,\n",
       "   0,\n",
       "   0,\n",
       "   0,\n",
       "   1,\n",
       "   0,\n",
       "   0,\n",
       "   0],\n",
       "  [-2.5510825,\n",
       "   1.19674,\n",
       "   83.6,\n",
       "   -0.738,\n",
       "   2.372,\n",
       "   0,\n",
       "   0,\n",
       "   0,\n",
       "   1,\n",
       "   0,\n",
       "   0,\n",
       "   0,\n",
       "   0,\n",
       "   0,\n",
       "   0,\n",
       "   0,\n",
       "   0,\n",
       "   0,\n",
       "   0,\n",
       "   0,\n",
       "   0,\n",
       "   1,\n",
       "   0,\n",
       "   0,\n",
       "   0],\n",
       "  [nan,\n",
       "   nan,\n",
       "   nan,\n",
       "   nan,\n",
       "   nan,\n",
       "   0,\n",
       "   0,\n",
       "   0,\n",
       "   0,\n",
       "   0,\n",
       "   0,\n",
       "   0,\n",
       "   1,\n",
       "   0,\n",
       "   0,\n",
       "   0,\n",
       "   0,\n",
       "   0,\n",
       "   0,\n",
       "   0,\n",
       "   0,\n",
       "   0,\n",
       "   0,\n",
       "   0,\n",
       "   0],\n",
       "  [nan,\n",
       "   nan,\n",
       "   nan,\n",
       "   nan,\n",
       "   nan,\n",
       "   0,\n",
       "   0,\n",
       "   0,\n",
       "   0,\n",
       "   0,\n",
       "   0,\n",
       "   0,\n",
       "   1,\n",
       "   0,\n",
       "   0,\n",
       "   0,\n",
       "   0,\n",
       "   0,\n",
       "   0,\n",
       "   0,\n",
       "   0,\n",
       "   0,\n",
       "   0,\n",
       "   0,\n",
       "   0]]]"
      ]
     },
     "execution_count": 125,
     "metadata": {},
     "output_type": "execute_result"
    }
   ],
   "source": [
    "reps[0][0]"
   ]
  },
  {
   "cell_type": "markdown",
   "metadata": {},
   "source": [
    "# Testing"
   ]
  },
  {
   "cell_type": "markdown",
   "metadata": {},
   "source": [
    "# Training"
   ]
  },
  {
   "cell_type": "code",
   "execution_count": 120,
   "metadata": {
    "scrolled": false
   },
   "outputs": [
    {
     "name": "stdout",
     "output_type": "stream",
     "text": [
      "***************Pre-Training Accuracy*****************\n"
     ]
    },
    {
     "ename": "RuntimeError",
     "evalue": "input.size(-1) must be equal to input_size. Expected 25, got 75",
     "output_type": "error",
     "traceback": [
      "\u001b[0;31m---------------------------------------------------------------------------\u001b[0m",
      "\u001b[0;31mRuntimeError\u001b[0m                              Traceback (most recent call last)",
      "\u001b[0;32m<ipython-input-120-623815ba4931>\u001b[0m in \u001b[0;36m<module>\u001b[0;34m\u001b[0m\n\u001b[1;32m      8\u001b[0m \u001b[0;32mwith\u001b[0m \u001b[0mtorch\u001b[0m\u001b[0;34m.\u001b[0m\u001b[0mno_grad\u001b[0m\u001b[0;34m(\u001b[0m\u001b[0;34m)\u001b[0m\u001b[0;34m:\u001b[0m\u001b[0;34m\u001b[0m\u001b[0;34m\u001b[0m\u001b[0m\n\u001b[1;32m      9\u001b[0m     \u001b[0mprint\u001b[0m\u001b[0;34m(\u001b[0m\u001b[0;34m\"***************Pre-Training Accuracy*****************\"\u001b[0m\u001b[0;34m)\u001b[0m\u001b[0;34m\u001b[0m\u001b[0;34m\u001b[0m\u001b[0m\n\u001b[0;32m---> 10\u001b[0;31m     \u001b[0mtest_accuracy\u001b[0m\u001b[0;34m(\u001b[0m\u001b[0mtrain_batches\u001b[0m\u001b[0;34m,\u001b[0m\u001b[0mmodel\u001b[0m\u001b[0;34m)\u001b[0m\u001b[0;34m\u001b[0m\u001b[0;34m\u001b[0m\u001b[0m\n\u001b[0m\u001b[1;32m     11\u001b[0m \u001b[0mprint\u001b[0m\u001b[0;34m(\u001b[0m\u001b[0;34m\"*************************Training*****************************\"\u001b[0m\u001b[0;34m)\u001b[0m\u001b[0;34m\u001b[0m\u001b[0;34m\u001b[0m\u001b[0m\n\u001b[1;32m     12\u001b[0m \u001b[0;32mfor\u001b[0m \u001b[0mepoch\u001b[0m \u001b[0;32min\u001b[0m \u001b[0mrange\u001b[0m\u001b[0;34m(\u001b[0m\u001b[0;36m1\u001b[0m\u001b[0;34m)\u001b[0m\u001b[0;34m:\u001b[0m\u001b[0;34m\u001b[0m\u001b[0;34m\u001b[0m\u001b[0m\n",
      "\u001b[0;32m<ipython-input-5-a5dac240bf37>\u001b[0m in \u001b[0;36mtest_accuracy\u001b[0;34m(batches, model)\u001b[0m\n\u001b[1;32m     25\u001b[0m             \u001b[0;31m#    targets = tag_to_ix[ptypes[0]]\u001b[0m\u001b[0;34m\u001b[0m\u001b[0;34m\u001b[0m\u001b[0;34m\u001b[0m\u001b[0m\n\u001b[1;32m     26\u001b[0m             \u001b[0;32mif\u001b[0m \u001b[0mtorch\u001b[0m\u001b[0;34m.\u001b[0m\u001b[0mcuda\u001b[0m\u001b[0;34m.\u001b[0m\u001b[0mis_available\u001b[0m\u001b[0;34m(\u001b[0m\u001b[0;34m)\u001b[0m\u001b[0;34m:\u001b[0m\u001b[0;34m\u001b[0m\u001b[0;34m\u001b[0m\u001b[0m\n\u001b[0;32m---> 27\u001b[0;31m                 \u001b[0mtag_scores\u001b[0m \u001b[0;34m=\u001b[0m \u001b[0mmodel\u001b[0m\u001b[0;34m(\u001b[0m\u001b[0;34m(\u001b[0m\u001b[0mprevs_in\u001b[0m\u001b[0;34m,\u001b[0m\u001b[0mrep_in\u001b[0m\u001b[0;34m)\u001b[0m\u001b[0;34m)\u001b[0m\u001b[0;34m.\u001b[0m\u001b[0mcuda\u001b[0m\u001b[0;34m(\u001b[0m\u001b[0;34m)\u001b[0m\u001b[0;34m\u001b[0m\u001b[0;34m\u001b[0m\u001b[0m\n\u001b[0m\u001b[1;32m     28\u001b[0m             \u001b[0;32melse\u001b[0m\u001b[0;34m:\u001b[0m\u001b[0;34m\u001b[0m\u001b[0;34m\u001b[0m\u001b[0m\n\u001b[1;32m     29\u001b[0m                 \u001b[0mtag_scores\u001b[0m \u001b[0;34m=\u001b[0m \u001b[0mmodel\u001b[0m\u001b[0;34m(\u001b[0m\u001b[0;34m(\u001b[0m\u001b[0mprevs_in\u001b[0m\u001b[0;34m,\u001b[0m\u001b[0mrep_in\u001b[0m\u001b[0;34m)\u001b[0m\u001b[0;34m)\u001b[0m\u001b[0;34m\u001b[0m\u001b[0;34m\u001b[0m\u001b[0m\n",
      "\u001b[0;32m~/.local/lib/python3.6/site-packages/torch/nn/modules/module.py\u001b[0m in \u001b[0;36m__call__\u001b[0;34m(self, *input, **kwargs)\u001b[0m\n\u001b[1;32m    487\u001b[0m             \u001b[0mresult\u001b[0m \u001b[0;34m=\u001b[0m \u001b[0mself\u001b[0m\u001b[0;34m.\u001b[0m\u001b[0m_slow_forward\u001b[0m\u001b[0;34m(\u001b[0m\u001b[0;34m*\u001b[0m\u001b[0minput\u001b[0m\u001b[0;34m,\u001b[0m \u001b[0;34m**\u001b[0m\u001b[0mkwargs\u001b[0m\u001b[0;34m)\u001b[0m\u001b[0;34m\u001b[0m\u001b[0;34m\u001b[0m\u001b[0m\n\u001b[1;32m    488\u001b[0m         \u001b[0;32melse\u001b[0m\u001b[0;34m:\u001b[0m\u001b[0;34m\u001b[0m\u001b[0;34m\u001b[0m\u001b[0m\n\u001b[0;32m--> 489\u001b[0;31m             \u001b[0mresult\u001b[0m \u001b[0;34m=\u001b[0m \u001b[0mself\u001b[0m\u001b[0;34m.\u001b[0m\u001b[0mforward\u001b[0m\u001b[0;34m(\u001b[0m\u001b[0;34m*\u001b[0m\u001b[0minput\u001b[0m\u001b[0;34m,\u001b[0m \u001b[0;34m**\u001b[0m\u001b[0mkwargs\u001b[0m\u001b[0;34m)\u001b[0m\u001b[0;34m\u001b[0m\u001b[0;34m\u001b[0m\u001b[0m\n\u001b[0m\u001b[1;32m    490\u001b[0m         \u001b[0;32mfor\u001b[0m \u001b[0mhook\u001b[0m \u001b[0;32min\u001b[0m \u001b[0mself\u001b[0m\u001b[0;34m.\u001b[0m\u001b[0m_forward_hooks\u001b[0m\u001b[0;34m.\u001b[0m\u001b[0mvalues\u001b[0m\u001b[0;34m(\u001b[0m\u001b[0;34m)\u001b[0m\u001b[0;34m:\u001b[0m\u001b[0;34m\u001b[0m\u001b[0;34m\u001b[0m\u001b[0m\n\u001b[1;32m    491\u001b[0m             \u001b[0mhook_result\u001b[0m \u001b[0;34m=\u001b[0m \u001b[0mhook\u001b[0m\u001b[0;34m(\u001b[0m\u001b[0mself\u001b[0m\u001b[0;34m,\u001b[0m \u001b[0minput\u001b[0m\u001b[0;34m,\u001b[0m \u001b[0mresult\u001b[0m\u001b[0;34m)\u001b[0m\u001b[0;34m\u001b[0m\u001b[0;34m\u001b[0m\u001b[0m\n",
      "\u001b[0;32m<ipython-input-119-3d5230a1ddf3>\u001b[0m in \u001b[0;36mforward\u001b[0;34m(self, rep)\u001b[0m\n\u001b[1;32m     58\u001b[0m         \u001b[0mpast_pitches\u001b[0m\u001b[0;34m,\u001b[0m\u001b[0mgame_states\u001b[0m \u001b[0;34m=\u001b[0m \u001b[0mrep\u001b[0m\u001b[0;34m\u001b[0m\u001b[0;34m\u001b[0m\u001b[0m\n\u001b[1;32m     59\u001b[0m         \u001b[0;31m#print(past_pitches)\u001b[0m\u001b[0;34m\u001b[0m\u001b[0;34m\u001b[0m\u001b[0;34m\u001b[0m\u001b[0m\n\u001b[0;32m---> 60\u001b[0;31m         \u001b[0mlstm_out\u001b[0m\u001b[0;34m,\u001b[0m \u001b[0m_\u001b[0m \u001b[0;34m=\u001b[0m \u001b[0mself\u001b[0m\u001b[0;34m.\u001b[0m\u001b[0mlstm\u001b[0m\u001b[0;34m(\u001b[0m\u001b[0mpast_pitches\u001b[0m\u001b[0;34m.\u001b[0m\u001b[0mview\u001b[0m\u001b[0;34m(\u001b[0m\u001b[0mlen\u001b[0m\u001b[0;34m(\u001b[0m\u001b[0mpast_pitches\u001b[0m\u001b[0;34m)\u001b[0m\u001b[0;34m,\u001b[0m \u001b[0;36m1\u001b[0m\u001b[0;34m,\u001b[0m \u001b[0;34m-\u001b[0m\u001b[0;36m1\u001b[0m\u001b[0;34m)\u001b[0m\u001b[0;34m)\u001b[0m\u001b[0;34m\u001b[0m\u001b[0;34m\u001b[0m\u001b[0m\n\u001b[0m\u001b[1;32m     61\u001b[0m         \u001b[0mtag_space\u001b[0m \u001b[0;34m=\u001b[0m \u001b[0mself\u001b[0m\u001b[0;34m.\u001b[0m\u001b[0mhidden2tag\u001b[0m\u001b[0;34m(\u001b[0m\u001b[0mlstm_out\u001b[0m\u001b[0;34m.\u001b[0m\u001b[0mview\u001b[0m\u001b[0;34m(\u001b[0m\u001b[0mlen\u001b[0m\u001b[0;34m(\u001b[0m\u001b[0msentence\u001b[0m\u001b[0;34m)\u001b[0m\u001b[0;34m,\u001b[0m \u001b[0;34m-\u001b[0m\u001b[0;36m1\u001b[0m\u001b[0;34m)\u001b[0m\u001b[0;34m)\u001b[0m\u001b[0;34m\u001b[0m\u001b[0;34m\u001b[0m\u001b[0m\n\u001b[1;32m     62\u001b[0m         \u001b[0mtag_scores\u001b[0m \u001b[0;34m=\u001b[0m \u001b[0mF\u001b[0m\u001b[0;34m.\u001b[0m\u001b[0mlog_softmax\u001b[0m\u001b[0;34m(\u001b[0m\u001b[0mtag_space\u001b[0m\u001b[0;34m,\u001b[0m \u001b[0mdim\u001b[0m\u001b[0;34m=\u001b[0m\u001b[0;36m1\u001b[0m\u001b[0;34m)\u001b[0m\u001b[0;34m\u001b[0m\u001b[0;34m\u001b[0m\u001b[0m\n",
      "\u001b[0;32m~/.local/lib/python3.6/site-packages/torch/nn/modules/module.py\u001b[0m in \u001b[0;36m__call__\u001b[0;34m(self, *input, **kwargs)\u001b[0m\n\u001b[1;32m    487\u001b[0m             \u001b[0mresult\u001b[0m \u001b[0;34m=\u001b[0m \u001b[0mself\u001b[0m\u001b[0;34m.\u001b[0m\u001b[0m_slow_forward\u001b[0m\u001b[0;34m(\u001b[0m\u001b[0;34m*\u001b[0m\u001b[0minput\u001b[0m\u001b[0;34m,\u001b[0m \u001b[0;34m**\u001b[0m\u001b[0mkwargs\u001b[0m\u001b[0;34m)\u001b[0m\u001b[0;34m\u001b[0m\u001b[0;34m\u001b[0m\u001b[0m\n\u001b[1;32m    488\u001b[0m         \u001b[0;32melse\u001b[0m\u001b[0;34m:\u001b[0m\u001b[0;34m\u001b[0m\u001b[0;34m\u001b[0m\u001b[0m\n\u001b[0;32m--> 489\u001b[0;31m             \u001b[0mresult\u001b[0m \u001b[0;34m=\u001b[0m \u001b[0mself\u001b[0m\u001b[0;34m.\u001b[0m\u001b[0mforward\u001b[0m\u001b[0;34m(\u001b[0m\u001b[0;34m*\u001b[0m\u001b[0minput\u001b[0m\u001b[0;34m,\u001b[0m \u001b[0;34m**\u001b[0m\u001b[0mkwargs\u001b[0m\u001b[0;34m)\u001b[0m\u001b[0;34m\u001b[0m\u001b[0;34m\u001b[0m\u001b[0m\n\u001b[0m\u001b[1;32m    490\u001b[0m         \u001b[0;32mfor\u001b[0m \u001b[0mhook\u001b[0m \u001b[0;32min\u001b[0m \u001b[0mself\u001b[0m\u001b[0;34m.\u001b[0m\u001b[0m_forward_hooks\u001b[0m\u001b[0;34m.\u001b[0m\u001b[0mvalues\u001b[0m\u001b[0;34m(\u001b[0m\u001b[0;34m)\u001b[0m\u001b[0;34m:\u001b[0m\u001b[0;34m\u001b[0m\u001b[0;34m\u001b[0m\u001b[0m\n\u001b[1;32m    491\u001b[0m             \u001b[0mhook_result\u001b[0m \u001b[0;34m=\u001b[0m \u001b[0mhook\u001b[0m\u001b[0;34m(\u001b[0m\u001b[0mself\u001b[0m\u001b[0;34m,\u001b[0m \u001b[0minput\u001b[0m\u001b[0;34m,\u001b[0m \u001b[0mresult\u001b[0m\u001b[0;34m)\u001b[0m\u001b[0;34m\u001b[0m\u001b[0;34m\u001b[0m\u001b[0m\n",
      "\u001b[0;32m~/.local/lib/python3.6/site-packages/torch/nn/modules/rnn.py\u001b[0m in \u001b[0;36mforward\u001b[0;34m(self, input, hx)\u001b[0m\n\u001b[1;32m    173\u001b[0m                 \u001b[0mhx\u001b[0m \u001b[0;34m=\u001b[0m \u001b[0;34m(\u001b[0m\u001b[0mhx\u001b[0m\u001b[0;34m,\u001b[0m \u001b[0mhx\u001b[0m\u001b[0;34m)\u001b[0m\u001b[0;34m\u001b[0m\u001b[0;34m\u001b[0m\u001b[0m\n\u001b[1;32m    174\u001b[0m \u001b[0;34m\u001b[0m\u001b[0m\n\u001b[0;32m--> 175\u001b[0;31m         \u001b[0mself\u001b[0m\u001b[0;34m.\u001b[0m\u001b[0mcheck_forward_args\u001b[0m\u001b[0;34m(\u001b[0m\u001b[0minput\u001b[0m\u001b[0;34m,\u001b[0m \u001b[0mhx\u001b[0m\u001b[0;34m,\u001b[0m \u001b[0mbatch_sizes\u001b[0m\u001b[0;34m)\u001b[0m\u001b[0;34m\u001b[0m\u001b[0;34m\u001b[0m\u001b[0m\n\u001b[0m\u001b[1;32m    176\u001b[0m         \u001b[0m_impl\u001b[0m \u001b[0;34m=\u001b[0m \u001b[0m_rnn_impls\u001b[0m\u001b[0;34m[\u001b[0m\u001b[0mself\u001b[0m\u001b[0;34m.\u001b[0m\u001b[0mmode\u001b[0m\u001b[0;34m]\u001b[0m\u001b[0;34m\u001b[0m\u001b[0;34m\u001b[0m\u001b[0m\n\u001b[1;32m    177\u001b[0m         \u001b[0;32mif\u001b[0m \u001b[0mbatch_sizes\u001b[0m \u001b[0;32mis\u001b[0m \u001b[0;32mNone\u001b[0m\u001b[0;34m:\u001b[0m\u001b[0;34m\u001b[0m\u001b[0;34m\u001b[0m\u001b[0m\n",
      "\u001b[0;32m~/.local/lib/python3.6/site-packages/torch/nn/modules/rnn.py\u001b[0m in \u001b[0;36mcheck_forward_args\u001b[0;34m(self, input, hidden, batch_sizes)\u001b[0m\n\u001b[1;32m    133\u001b[0m             raise RuntimeError(\n\u001b[1;32m    134\u001b[0m                 'input.size(-1) must be equal to input_size. Expected {}, got {}'.format(\n\u001b[0;32m--> 135\u001b[0;31m                     self.input_size, input.size(-1)))\n\u001b[0m\u001b[1;32m    136\u001b[0m \u001b[0;34m\u001b[0m\u001b[0m\n\u001b[1;32m    137\u001b[0m         \u001b[0;32mif\u001b[0m \u001b[0mis_input_packed\u001b[0m\u001b[0;34m:\u001b[0m\u001b[0;34m\u001b[0m\u001b[0;34m\u001b[0m\u001b[0m\n",
      "\u001b[0;31mRuntimeError\u001b[0m: input.size(-1) must be equal to input_size. Expected 25, got 75"
     ]
    }
   ],
   "source": [
    "model = PitchPredict(PREV_PITCH_DIM, HIDDEN_DIM, NUM_PREV_PITCHES, OUT_DIM, GAME_STATE_DIM, GAME_OUT_DIM, len(tag_to_ix))\n",
    "loss_function = nn.NLLLoss()\n",
    "optimizer = optim.Adam(model.parameters(), lr=learning_rate)\n",
    "\n",
    "# See what the scores are before training\n",
    "# Note that element i,j of the output is the score for tag j for word i.\n",
    "# Here we don't need to train, so the code is wrapped in torch.no_grad()\n",
    "with torch.no_grad():\n",
    "    print(\"***************Pre-Training Accuracy*****************\")\n",
    "    test_accuracy(train_batches,model)\n",
    "print(\"*************************Training*****************************\")\n",
    "for epoch in range(1):\n",
    "    #shuffle(train_batches)\n",
    "    for batch in reps:\n",
    "        prev_pitches,pre_pitch,ptypes = batch\n",
    "        \n",
    "        # Step 1. Remember that Pytorch accumulates gradients.\n",
    "        # We need to clear them out before each instance\n",
    "        model.zero_grad()\n",
    "\n",
    "        #get input tensors ready\n",
    "        prevs_in = torch.tensor(prev_pitches, dtype=torch.float)\n",
    "        game_state_in = torch.tensor(pre_pitch, dtype=torch.float)\n",
    "        \n",
    "        #get target value\n",
    "        #target = tag_to_ix[ptype]\n",
    "        target = [ tag_to_ix[ptype] for ptype in ptypes]\n",
    "\n",
    "        # Step 3. Run our forward pass.\n",
    "        if torch.cuda.is_available():\n",
    "            tag_scores = model((prevs_in,game_state_in)).cuda()\n",
    "        else:\n",
    "            tag_scores = model((prevs_in,game_state_in))\n",
    "               \n",
    "        # Step 4. Compute the loss, gradients, and update the parameters by\n",
    "        #  calling optimizer.step()\n",
    "        loss = loss_function(tag_scores, torch.tensor(target,dtype=torch.long))\n",
    "        loss.backward()\n",
    "        optimizer.step()\n",
    "        \n",
    "        preds = [tag_score.max(0) for tag_score in tag_scores]\n",
    "\n",
    "                \n",
    "    #display post-epoch results\n",
    "    print('epoch:',epoch+1,\"loss:\",loss.item())\n",
    "\n",
    "# See what the scores are after training\n",
    "with torch.no_grad():\n",
    "    print(\"****************Post-Training Accuracy********************\")\n",
    "    test_accuracy(train_batches,model.eval())\n",
    "    print(\"**********************************************************\")"
   ]
  },
  {
   "cell_type": "markdown",
   "metadata": {},
   "source": [
    "# Results"
   ]
  },
  {
   "cell_type": "code",
   "execution_count": 56,
   "metadata": {
    "scrolled": false
   },
   "outputs": [
    {
     "name": "stdout",
     "output_type": "stream",
     "text": [
      "****************Validation Accuracy********************\n",
      "______________________________________\n",
      "Non-Fastball rate: 0.5553424657534246\n",
      "Predicted Non-Fastball rate: 0.5436986301369863\n",
      "Non-Fastball accuracy: 0.6250616674888998\n",
      "______________________________________\n",
      "Fastball rate: 0.44465753424657534\n",
      "Predicted Fastball rate: 0.4563013698630137\n",
      "Fastball accuracy: 0.5579174368453481\n",
      "______________________________________\n",
      "Accuracy: 0.5952054794520548\n",
      "Accuracy above naive guess: 0.15054794520547948\n",
      "______________________________________\n",
      "**********************************************************\n"
     ]
    }
   ],
   "source": [
    "with torch.no_grad():\n",
    "    print(\"****************Validation Accuracy********************\")\n",
    "    test_accuracy(validate_batches,model)\n",
    "    print(\"**********************************************************\")"
   ]
  },
  {
   "cell_type": "code",
   "execution_count": 32,
   "metadata": {
    "scrolled": true
   },
   "outputs": [
    {
     "name": "stdout",
     "output_type": "stream",
     "text": [
      "****************Test Accuracy********************\n",
      "______________________________________\n",
      "Non-Fastball rate: 0.41554140127388534\n",
      "Predicted Non-Fastball rate: 0.5212738853503185\n",
      "Non-Fastball accuracy: 0.6661557326793378\n",
      "______________________________________\n",
      "Fastball rate: 0.5844585987261146\n",
      "Predicted Fastball rate: 0.4787261146496815\n",
      "Fastball accuracy: 0.5817349607672189\n",
      "______________________________________\n",
      "Accuracy: 0.6168152866242038\n",
      "Accuracy above naive guess: 0.03235668789808921\n",
      "______________________________________\n",
      "**********************************************************\n"
     ]
    }
   ],
   "source": [
    "with torch.no_grad():\n",
    "    print(\"****************Test Accuracy********************\")\n",
    "    test_accuracy(test_batches,model)\n",
    "    print(\"**********************************************************\")"
   ]
  },
  {
   "cell_type": "markdown",
   "metadata": {},
   "source": [
    "### high score using balanced set (25% FF)\n",
    "- **TRAINING ACCURACY HIGH SCORE:** 38 (39% FF)\n",
    "\n",
    "- **TEST ACCURACY HIGH SCORE:** 43.7 (37% FF) -14%- naive \n",
    "\n",
    "\n",
    "- ****HYPERPARAMETERS:****\n",
    "\n",
    "    - LSTM num_layers: 1\n",
    "    \n",
    "    - OUT_SIZE: 15\n",
    "    \n",
    "    - HIDDEN_DIMENSION: 10\n",
    "    \n",
    "    - EPOCHS: 5\n",
    "   \n",
    "    - LEARNING RATE: 0.001\n",
    "    \n",
    "    - LOSS FUNCTION: NLLLOSS\n",
    "    \n",
    "    - OPTIMIZER: ADAM"
   ]
  },
  {
   "cell_type": "markdown",
   "metadata": {},
   "source": [
    "### high score using unbalanced set (50+% FF)\n",
    "- **TRAINING ACCURACY HIGH SCORE:** 57.8 (91% FF)\n",
    "\n",
    "- **TEST ACCURACY HIGH SCORE:** 60.86 (88% FF) 2.5%+ naive \n",
    "\n",
    "\n",
    "- ****HYPERPARAMETERS:****\n",
    "\n",
    "    - LSTM num_layers: 1\n",
    "    \n",
    "    - OUT_SIZE: 15\n",
    "    \n",
    "    - HIDDEN_DIMENSION: 10\n",
    "    \n",
    "    - EPOCHS: 20\n",
    "   \n",
    "    - LEARNING RATE: 0.001\n",
    "    \n",
    "    - LOSS FUNCTION: NLLLOSS\n",
    "    \n",
    "    - OPTIMIZER: ADAM"
   ]
  }
 ],
 "metadata": {
  "kernelspec": {
   "display_name": "Python 3",
   "language": "python",
   "name": "python3"
  },
  "language_info": {
   "codemirror_mode": {
    "name": "ipython",
    "version": 3
   },
   "file_extension": ".py",
   "mimetype": "text/x-python",
   "name": "python",
   "nbconvert_exporter": "python",
   "pygments_lexer": "ipython3",
   "version": "3.6.7"
  }
 },
 "nbformat": 4,
 "nbformat_minor": 2
}
