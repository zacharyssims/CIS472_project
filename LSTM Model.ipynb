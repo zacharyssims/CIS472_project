{
 "cells": [
  {
   "cell_type": "markdown",
   "metadata": {},
   "source": [
    "Inspiration for Neural Net: https://pytorch.org/tutorials/beginner/nlp/sequence_models_tutorial.html"
   ]
  },
  {
   "cell_type": "markdown",
   "metadata": {},
   "source": [
    "# Data Pre-Processing"
   ]
  },
  {
   "cell_type": "code",
   "execution_count": 1,
   "metadata": {
    "scrolled": true
   },
   "outputs": [
    {
     "data": {
      "text/plain": [
       "<torch._C.Generator at 0x7f1204d6ce30>"
      ]
     },
     "execution_count": 1,
     "metadata": {},
     "output_type": "execute_result"
    }
   ],
   "source": [
    "import pandas as pd\n",
    "import torch\n",
    "import torch.nn as nn\n",
    "import torch.nn.functional as F\n",
    "import torch.optim as optim\n",
    "torch.manual_seed(1)"
   ]
  },
  {
   "cell_type": "code",
   "execution_count": 2,
   "metadata": {},
   "outputs": [],
   "source": [
    "#Verlander:\n",
    "##DET(2008-2017) HOU(2017-2019)\n",
    "def verlander_home(verlander):\n",
    "    if verlander['home_team'] == 'DET':\n",
    "        if verlander['game_year'] in [2008,2009,2010,2011,2012,2013,2014,2015,2016,2017]:\n",
    "                return 1\n",
    "        else: return 0 \n",
    "    elif verlander['home_team'] == 'HOU':\n",
    "        if verlander['away_team'] == 'DET':\n",
    "            if verlander['game_year'] == 2017:\n",
    "                return 0\n",
    "            else: return 0 \n",
    "        elif verlander['game_year'] in [2017,2018,2019]:\n",
    "            return 1    \n",
    "        else: return 0   \n",
    "    else: return 0 \n",
    "#Lester:\n",
    "## BOS(2008-2014) OAK(2014) CHC(2015-2019)\n",
    "def lester_home(lester):\n",
    "    if lester['home_team'] == 'BOS':\n",
    "        if lester['game_year'] in [2008,2009,2010,2011,2012,2013,2014]:\n",
    "            return 1\n",
    "        else: return 0\n",
    "    elif lester['home_team'] == 'CHC':\n",
    "        if lester['game_year'] in [2015,2016,2017,2018,2019]:\n",
    "            return 1\n",
    "        else:\n",
    "            return 0\n",
    "    elif lester['home_team'] == 'OAK':\n",
    "        if lester['away_team'] == 'BOS':\n",
    "            if lester['game_year'] == 2014:\n",
    "                return 0\n",
    "            else:\n",
    "                return 0\n",
    "        elif lester['game_year'] == 2014:\n",
    "            return 1\n",
    "        else: return 0\n",
    "    else:\n",
    "        return 0\n",
    "#Scherzer\n",
    "## ARI(2008-2009) DET(2010-2014) WAS(2015-2019)\n",
    "def scherzer_home(scherzer):\n",
    "    if scherzer['home_team'] == 'ARI':\n",
    "        if scherzer['game_year'] in [2008,2009]:\n",
    "            return 1\n",
    "        else: return 0\n",
    "    elif scherzer['home_team'] == 'DET':\n",
    "        if scherzer['game_year'] in [2010,2011,2012,2013,2014]:\n",
    "            return 1\n",
    "        else: return 0\n",
    "    elif scherzer['home_team'] == 'WAS':\n",
    "        if scherzer['game_year'] in [2015,2016,2017,2018,2019]:\n",
    "            return 1 \n",
    "        else: return 0\n",
    "    else: return 0\n",
    "#Hamels:\n",
    "##PHI(2008-2015) TEX(2015-2018) CHC(2018-2019) \n",
    "def hamels_home(hamels):\n",
    "    if hamels['home_team'] == 'PHI':\n",
    "        if hamels['game_year'] in [2008,2009,2010,2011,2012,2013,2014,2015]:\n",
    "            return 1\n",
    "        else: return 0\n",
    "    elif hamels['home_team'] == 'TEX':\n",
    "        if hamels['game_year'] in [2015,2016,2017,2018]:\n",
    "            return 1\n",
    "        else: return 0\n",
    "    elif hamels['home_team'] == 'CHC':\n",
    "        if hamels['game_year'] in [2018,2019]:\n",
    "            return 1\n",
    "        else: return 0\n",
    "    else: return 0"
   ]
  },
  {
   "cell_type": "code",
   "execution_count": 3,
   "metadata": {},
   "outputs": [],
   "source": [
    "def clean_data(pitcher):\n",
    "    pitcher['on_1b'] = pitcher['on_1b'].apply(lambda row: 1 if row == row else 0)\n",
    "    pitcher['on_2b'] = pitcher['on_2b'].apply(lambda row: 1 if row == row else 0)\n",
    "    pitcher['on_3b'] = pitcher['on_3b'].apply(lambda row: 1 if row == row else 0)\n",
    "    pitcher['stand'] = pitcher['stand'].apply(lambda row: 1 if row == 'L' else 0)\n",
    "    pitcher.rename(columns={'stand':'stand_L'},inplace=True)\n",
    "    if pitcher['player_name'][0] == 'Justin Verlander':\n",
    "        pitcher['home_team'] = pitcher.apply(lambda row: verlander_home(row),axis=1)\n",
    "    if pitcher['player_name'][0] == 'Jon Lester':\n",
    "        pitcher['home_team'] = pitcher.apply(lambda row: lester_home(row),axis=1)\n",
    "    if pitcher['player_name'][0] == 'Cole Hamels':\n",
    "        pitcher['home_team'] = pitcher.apply(lambda row: hamels_home(row),axis=1)\n",
    "    if pitcher['player_name'][0] == 'Max Scherzer':\n",
    "        pitcher['home_team'] = pitcher.apply(lambda row: scherzer_home(row),axis=1)  \n",
    "    pitcher_cols = ['game_pk','pitch_type','pfx_x','pfx_z','description','release_speed',\n",
    "                    'plate_x','plate_z','stand_L', 'home_team', 'balls','strikes',\n",
    "                    'on_3b', 'on_2b', 'on_1b', 'outs_when_up']\n",
    "    pitcher = pitcher[pitcher_cols]\n",
    "    balls_ohe = pd.get_dummies(pitcher['balls'],prefix='balls')\n",
    "    strikes_ohe = pd.get_dummies(pitcher['strikes'],prefix='strikes')\n",
    "    outs_ohe = pd.get_dummies(pitcher['outs_when_up'],prefix='outs')\n",
    "    des_ohe = pd.get_dummies(pitcher['description'])\n",
    "    pitcher.drop(['balls','strikes','outs_when_up','description'],axis=1,inplace=True)\n",
    "    pitcher =  pitcher.join(balls_ohe)\n",
    "    pitcher = pitcher.join(strikes_ohe)\n",
    "    pitcher = pitcher.join(outs_ohe)\n",
    "    pitcher = pitcher.join(des_ohe)\n",
    "    return pitcher"
   ]
  },
  {
   "cell_type": "code",
   "execution_count": 4,
   "metadata": {},
   "outputs": [],
   "source": [
    "#transform data into a list of games \n",
    "def get_games(pitcher):\n",
    "    game_id = pitcher['game_pk']\n",
    "    pitcher = pitcher.values\n",
    "    games = []\n",
    "    game = []\n",
    "    for index in reversed(range(len(game_id))):\n",
    "        game.append(pitcher[index])\n",
    "        if index != (len(game_id) - 1) and game_id[index] != game_id[index + 1]:\n",
    "            games.append(game)\n",
    "            game = []\n",
    "    return games                   "
   ]
  },
  {
   "cell_type": "code",
   "execution_count": 5,
   "metadata": {},
   "outputs": [],
   "source": [
    "#transform data into representations for model, i.e. (PREV_PITCHES,PREV_PTYPES,PRE_PITCH,PTYPE) where:\n",
    "#PREV_PITCHES is a list of 5 vectors, each representing the last five pitches in terms of velocity, plate location,\n",
    "#horizontal and vertical movement, and outcome.\n",
    "#PREV_TYPES are the previous 5 pitch types\n",
    "#PRE_PITCH is a  one_hot vector describing the pre-pitch game state for the pitch to predict, in terms of number of outs,\n",
    "#BALLS, and strikes, runners on base, if the pitcher is home or not, and whether the batter is left handed\n",
    "#PTYPE is the target pitch type for prediction \n",
    "def get_reps(pitcher_games):\n",
    "    reps = []\n",
    "    for game in pitcher_games:\n",
    "        ptypes = [pitch[1] for pitch in game]\n",
    "        prev_pitch_cont = [pitch[2:7].tolist() for pitch in game]\n",
    "        prev_pitch_disc = [pitch[22:].tolist() for pitch in game]\n",
    "        pitches = zip(prev_pitch_cont,prev_pitch_disc)\n",
    "        prev_pitches = [cont + disc for cont,disc in pitches]\n",
    "        pre_pitch = [pitch[7:22].tolist() for pitch in game]\n",
    "        game_len = len(game)\n",
    "        for i in range(game_len):\n",
    "            if i < (game_len - 1) - 6:\n",
    "                rep = (prev_pitches[i:i+5],ptypes[i:i+5],pre_pitch[i+5],ptypes[i+5])\n",
    "                reps.append(rep)\n",
    "    return reps    "
   ]
  },
  {
   "cell_type": "code",
   "execution_count": 6,
   "metadata": {},
   "outputs": [],
   "source": [
    "#drop any representation that contains a NaN value\n",
    "def drop_nas(reps):\n",
    "    good_reps = []\n",
    "    for rep in reps:\n",
    "        is_na = False\n",
    "        prev_pitches,prev_types,pre_pitch,ptype = rep\n",
    "        if ptype != ptype:\n",
    "            is_na = True\n",
    "        else:\n",
    "            for pitch in prev_pitches:\n",
    "                for stat in pitch:\n",
    "                    if stat != stat:\n",
    "                        is_na = True\n",
    "            for pitch in prev_types:\n",
    "                if pitch != pitch:\n",
    "                    is_na = True\n",
    "        if not is_na:\n",
    "            good_reps.append(rep)\n",
    "            is_na = False\n",
    "    return good_reps        "
   ]
  },
  {
   "cell_type": "code",
   "execution_count": 7,
   "metadata": {},
   "outputs": [],
   "source": [
    "#drop half the fastballs in the set of representations, this creates an even distribution of ptypes in the training set\n",
    "def drop_ff(reps):\n",
    "    good_reps = []\n",
    "    i = 0\n",
    "    for rep in reps:\n",
    "        prev_pitches,prev_types,pre_pitch,ptype = rep\n",
    "        if ptype == 'FF':\n",
    "            i += 1\n",
    "            if i%4 == 0:\n",
    "                good_reps.append(rep)\n",
    "        else:\n",
    "            good_reps.append(rep)\n",
    "    return good_reps"
   ]
  },
  {
   "cell_type": "code",
   "execution_count": 8,
   "metadata": {},
   "outputs": [],
   "source": [
    "#count the number of fourseam-fastballs in the set of representations\n",
    "def num_ff(reps):\n",
    "    i = 0\n",
    "    for rep in reps:\n",
    "            prev_pitches,prev_types,pre_pitch,ptype = rep\n",
    "            if ptype == 'FF':\n",
    "                i += 1\n",
    "    return i"
   ]
  },
  {
   "cell_type": "code",
   "execution_count": 9,
   "metadata": {},
   "outputs": [],
   "source": [
    "def drop_pitches(reps):\n",
    "    good_reps = []\n",
    "    for rep in reps:\n",
    "        prev_pitches,prev_types,pre_pitch,ptype = rep\n",
    "        if ptype in ['CU','FF','SL','CH']:\n",
    "                good_reps.append(rep)\n",
    "    return good_reps"
   ]
  },
  {
   "cell_type": "code",
   "execution_count": 81,
   "metadata": {},
   "outputs": [],
   "source": [
    "verlander = pd.read_csv('Data/raw_data/verlander.csv')\n",
    "ver = clean_data(verlander)\n",
    "games = get_games(ver)\n",
    "reps = get_reps(games)\n",
    "reps = drop_nas(reps)\n",
    "reps = drop_pitches(reps)\n",
    "#train = drop_ff(reps[1:33000])"
   ]
  },
  {
   "cell_type": "code",
   "execution_count": 53,
   "metadata": {},
   "outputs": [
    {
     "data": {
      "text/plain": [
       "36291"
      ]
     },
     "execution_count": 53,
     "metadata": {},
     "output_type": "execute_result"
    }
   ],
   "source": [
    "len(reps)"
   ]
  },
  {
   "cell_type": "code",
   "execution_count": 82,
   "metadata": {},
   "outputs": [],
   "source": [
    "train = drop_ff(reps[1:30000])\n",
    "test = reps[30000:]"
   ]
  },
  {
   "cell_type": "code",
   "execution_count": 29,
   "metadata": {},
   "outputs": [],
   "source": [
    "#get train and test sets\n",
    "verlander = pd.read_csv('Data/raw_data/verlander.csv')\n",
    "ver = clean_data(verlander)\n",
    "games = get_games(ver)\n",
    "reps = get_reps(games)\n",
    "reps = drop_nas(reps)\n",
    "reps = drop_pitches(reps)\n",
    "#train = drop_ff(reps[1:33000])\n",
    "train = reps[1:33000]\n",
    "test = reps[33000:]"
   ]
  },
  {
   "cell_type": "markdown",
   "metadata": {},
   "source": [
    "# Model Construction"
   ]
  },
  {
   "cell_type": "code",
   "execution_count": 10,
   "metadata": {},
   "outputs": [],
   "source": [
    "# work-in-progress\n",
    "def get_batches(train,batch_size):   \n",
    "    out = []\n",
    "    i = 0\n",
    "    batch = []\n",
    "    for rep in train:\n",
    "        i += 1\n",
    "        if i != 1 and ((i) % (batch_size) == 0):\n",
    "            out.append(batch)\n",
    "            batch = [rep]\n",
    "        else:\n",
    "            batch.append(rep)\n",
    "    return out"
   ]
  },
  {
   "cell_type": "code",
   "execution_count": 17,
   "metadata": {},
   "outputs": [
    {
     "data": {
      "text/plain": [
       "tensor([2, 3])"
      ]
     },
     "execution_count": 17,
     "metadata": {},
     "output_type": "execute_result"
    }
   ],
   "source": [
    "x = torch.tensor([[0,1],[2,3]])\n",
    "x.view(4)[2:]"
   ]
  },
  {
   "cell_type": "code",
   "execution_count": 110,
   "metadata": {},
   "outputs": [],
   "source": [
    "#change this for different pitcher\n",
    "tag_to_ix = {'CU':0,\n",
    "             'FF':1,\n",
    "             'SL':2,\n",
    "             'CH':3}\n",
    "             \n",
    "\n",
    "PREV_PITCH_DIM = 21\n",
    "HIDDEN_DIM = 10 #FIDDLE WITH THIS\n",
    "NUM_PREV_PITCHES = 5\n",
    "OUT_DIM = 15  #FIDDLE WITH THIS\n",
    "GAME_STATE_DIM = 15\n",
    "GAME_OUT_DIM = 3  #FIDDLE WITH THIS\n",
    "if torch.cuda.is_available():\n",
    "    torch.set_default_tensor_type(torch.cuda.FloatTensor)\n",
    "    \n",
    "class PitchPredict(nn.Module):\n",
    "    def __init__(self, prev_pitch_dim, hidden_dim, num_prev_pitches,out_dim, game_state_dim, game_out_dim, num_ptypes):\n",
    "        super(PitchPredict, self).__init__()\n",
    "        #get constants\n",
    "        self.hidden_dim = hidden_dim\n",
    "        self.prev_pitch_dim = prev_pitch_dim\n",
    "        self.num_prev_pitches = num_prev_pitches\n",
    "        self.out_dim = out_dim\n",
    "        self.game_state_dim = game_state_dim\n",
    "        self.game_out_dim = game_out_dim\n",
    "        \n",
    "        ####Define Layers####\n",
    "        \n",
    "        ########################## LSTM for past five pitches################################\n",
    "        # The LSTM takes previous pitch vectors as inputs, and outputs hidden states\n",
    "        # with dimensionality hidden_dim.\n",
    "        self.lstm = nn.LSTM(prev_pitch_dim, hidden_dim,num_layers=1)#FIDDLE WITH num_layers\n",
    "\n",
    "        # The linear layer that maps from hidden state space to a vector\n",
    "        # with dimensionality OUT_DIM\n",
    "        self.hidden2out = nn.Linear(hidden_dim, out_dim)\n",
    "        \n",
    "        ############## FULLY CONNECTED LAYER for LSTM OUTPUTS + game_state vector #################\n",
    "        \n",
    "        #layer to map the game state vector to a different dimension\n",
    "        #self.l1 = nn.Linear(self.game_state_dim, self.game_out_dim)  \n",
    "        \n",
    "        #This Fully connected layer maps from the output of the final hidden layer output from the LSTM,\n",
    "        # dimension = OUT_DIM, with the game state vector, dimension = GAME_STATE_DIM\n",
    "        # to a vector of length of the number of ptypes to pass through softmax for probabilities\n",
    "        self.fc1 = nn.Linear(self.out_dim + self.game_state_dim, num_ptypes)\n",
    "        #self.fc1 = nn.Linear((self.out_dim*self.num_prev_pitches)+self.game_out_dim,num_ptypes)\n",
    "                             \n",
    "    def forward(self, rep):\n",
    "        past_pitches,game_state = rep\n",
    "        lstm_out, _ = self.lstm(past_pitches.view(self.num_prev_pitches, 1, -1))\n",
    "        learned_rep = self.hidden2out(lstm_out.view(self.num_prev_pitches, -1))\n",
    "        #game_rep = self.l1(game_state)\n",
    "        fc_in = torch.cat((learned_rep.view(self.num_prev_pitches*self.out_dim)[(self.num_prev_pitches-1)*self.out_dim:],game_state))\n",
    "        fc = self.fc1(fc_in)\n",
    "        tag_scores = F.log_softmax(fc,dim=0)\n",
    "        return tag_scores"
   ]
  },
  {
   "cell_type": "code",
   "execution_count": 42,
   "metadata": {},
   "outputs": [],
   "source": [
    "def test_accuracy(test,model):\n",
    "    num_right = 0\n",
    "    ff_count = 0\n",
    "    predict_ff = 0\n",
    "    predictions = []\n",
    "    for rep in test:\n",
    "        with torch.no_grad():\n",
    "            prev_pitches,prev_types,pre_pitch,ptype = rep\n",
    "            prevs_in = torch.tensor(prev_pitches, dtype=torch.float)\n",
    "            rep_in = torch.tensor(pre_pitch, dtype=torch.float)\n",
    "            target = tag_to_ix[ptype]\n",
    "            if torch.cuda.is_available():\n",
    "                tag_scores = model((prevs_in,rep_in)).cuda()\n",
    "            else:\n",
    "                tag_scores = model((prevs_in,rep_in))\n",
    "            value, index = tag_scores.max(0)\n",
    "            #print(index.item())\n",
    "            predictions.append((index.item(),target))\n",
    "            if target == 1:\n",
    "                ff_count += 1\n",
    "            if index.item() == 1:\n",
    "                predict_ff += 1\n",
    "            if index.item() == target:\n",
    "                num_right += 1   \n",
    "    ff_rate = ff_count/len(test)\n",
    "    pred_ff_rate = predict_ff/len(test)\n",
    "    accuracy = num_right/len(test)\n",
    "    print(\"Fourseam Fastball rate:\",ff_rate)\n",
    "    print(\"Predicted Fourseam Fastball rate:\",pred_ff_rate)\n",
    "    print(\"Accuracy:\",accuracy)\n",
    "    print(\"Accuracy above naive guess:\",accuracy - ff_rate)\n",
    "    return predictions\n",
    "    "
   ]
  },
  {
   "cell_type": "markdown",
   "metadata": {},
   "source": [
    "# Training and Testing"
   ]
  },
  {
   "cell_type": "code",
   "execution_count": 111,
   "metadata": {
    "scrolled": false
   },
   "outputs": [
    {
     "name": "stdout",
     "output_type": "stream",
     "text": [
      "***************Pre-Training Accuracy*****************\n",
      "Fourseam Fastball rate: 0.25281359906213363\n",
      "Predicted Fourseam Fastball rate: 0.06770222743259086\n",
      "Accuracy: 0.2597303634232122\n",
      "Accuracy above naive guess: 0.006916764361078576\n",
      "**************************Training*****************************\n",
      "epoch: 1 loss: 0.8353438973426819\n",
      "epoch: 2 loss: 0.8366174697875977\n",
      "epoch: 3 loss: 0.8378267288208008\n",
      "epoch: 4 loss: 0.8373398780822754\n",
      "epoch: 5 loss: 0.8481465578079224\n",
      "****************Post-Training Accuracy********************\n",
      "Fourseam Fastball rate: 0.25281359906213363\n",
      "Predicted Fourseam Fastball rate: 0.3888042203985932\n",
      "Accuracy: 0.3816529894490035\n",
      "Accuracy above naive guess: 0.12883939038686987\n",
      "**********************************************************\n",
      "*******************Test Accuracy**********************\n",
      "Fourseam Fastball rate: 0.5801939278334128\n",
      "Predicted Fourseam Fastball rate: 0.37672865999046257\n",
      "Accuracy: 0.4369734541408361\n",
      "Accuracy above naive guess: -0.14322047369257673\n",
      "*****************************************************\n"
     ]
    }
   ],
   "source": [
    "model = PitchPredict(PREV_PITCH_DIM, HIDDEN_DIM, NUM_PREV_PITCHES, OUT_DIM, GAME_STATE_DIM, GAME_OUT_DIM, len(tag_to_ix))\n",
    "loss_function = nn.NLLLoss()\n",
    "optimizer = optim.Adam(model.parameters(), lr=0.001)#FIDDLE WITH LEARNING RATE (lr)\n",
    "\n",
    "# See what the scores are before training\n",
    "# Note that element i,j of the output is the score for tag j for word i.\n",
    "# Here we don't need to train, so the code is wrapped in torch.no_grad()\n",
    "with torch.no_grad():\n",
    "    print(\"***************Pre-Training Accuracy*****************\")\n",
    "    test_accuracy(train,model)\n",
    "print(\"**************************Training*****************************\")\n",
    "for epoch in range(5):\n",
    "    num_right = 0\n",
    "    for rep in train:\n",
    "        prev_pitches,prev_types,pre_pitch,ptype = rep\n",
    "        \n",
    "        # Step 1. Remember that Pytorch accumulates gradients.\n",
    "        # We need to clear them out before each instance\n",
    "        model.zero_grad()\n",
    "\n",
    "        #get input tensors ready\n",
    "        prevs_in = torch.tensor(prev_pitches, dtype=torch.float)\n",
    "        game_state_in = torch.tensor(pre_pitch, dtype=torch.float)\n",
    "        \n",
    "        #get target value\n",
    "        target = tag_to_ix[ptype]\n",
    "\n",
    "        # Step 3. Run our forward pass.\n",
    "        if torch.cuda.is_available():\n",
    "            tag_scores = model((prevs_in,game_state_in)).cuda()\n",
    "        else:\n",
    "            tag_scores = model((prevs_in,game_state_in))\n",
    "               \n",
    "        # Step 4. Compute the loss, gradients, and update the parameters by\n",
    "        #  calling optimizer.step()\n",
    "        loss = loss_function(tag_scores.view(1,-1), torch.tensor([target],dtype=torch.long))\n",
    "        loss.backward()\n",
    "        optimizer.step()\n",
    "        \n",
    "        #get accuracy\n",
    "        value, index = tag_scores.max(0)\n",
    "        if index.item() == target:\n",
    "            num_right += 1\n",
    "            \n",
    "    #display post-epoch results      \n",
    "    accuracy = num_right/len(train)\n",
    "    print('epoch:',epoch+1,\"loss:\",loss.item())\n",
    "\n",
    "# See what the scores are after training\n",
    "with torch.no_grad():\n",
    "    print(\"****************Post-Training Accuracy********************\")\n",
    "    test_accuracy(train,model.eval())\n",
    "    print(\"**********************************************************\")\n",
    "with torch.no_grad():\n",
    "    print(\"*******************Test Accuracy**********************\")\n",
    "    test_accuracy(test,model.eval())\n",
    "    print(\"*****************************************************\")"
   ]
  },
  {
   "cell_type": "code",
   "execution_count": 112,
   "metadata": {
    "scrolled": true
   },
   "outputs": [
    {
     "name": "stdout",
     "output_type": "stream",
     "text": [
      "****************Post-Training Test Accuracy********************\n",
      "Fourseam Fastball rate: 0.5801939278334128\n",
      "Predicted Fourseam Fastball rate: 0.37672865999046257\n",
      "Accuracy: 0.4369734541408361\n",
      "Accuracy above naive guess: -0.14322047369257673\n",
      "**********************************************************\n"
     ]
    }
   ],
   "source": [
    "with torch.no_grad():\n",
    "    print(\"****************Post-Training Test Accuracy********************\")\n",
    "    preds = test_accuracy(test,model)\n",
    "    print(\"**********************************************************\")"
   ]
  },
  {
   "cell_type": "code",
   "execution_count": 107,
   "metadata": {},
   "outputs": [],
   "source": [
    "i = 0\n",
    "for pred,target in preds:\n",
    "    if pred == 3:\n",
    "        i += 1"
   ]
  },
  {
   "cell_type": "code",
   "execution_count": 108,
   "metadata": {},
   "outputs": [
    {
     "data": {
      "text/plain": [
       "0.023366714353838816"
      ]
     },
     "execution_count": 108,
     "metadata": {},
     "output_type": "execute_result"
    }
   ],
   "source": [
    "i/len(preds)"
   ]
  },
  {
   "cell_type": "markdown",
   "metadata": {},
   "source": [
    "### high score using balanced set (25% FF)\n",
    "- **TRAINING ACCURACY HIGH SCORE:** 38 (39% FF)\n",
    "\n",
    "- **TEST ACCURACY HIGH SCORE:** 43.7 (37% FF) -14%- naive \n",
    "\n",
    "\n",
    "- ****HYPERPARAMETERS:****\n",
    "\n",
    "    - LSTM num_layers: 1\n",
    "    \n",
    "    - OUT_SIZE: 15\n",
    "    \n",
    "    - HIDDEN_DIMENSION: 10\n",
    "    \n",
    "    - EPOCHS: 5\n",
    "   \n",
    "    - LEARNING RATE: 0.001\n",
    "    \n",
    "    - LOSS FUNCTION: NLLLOSS\n",
    "    \n",
    "    - OPTIMIZER: ADAM"
   ]
  },
  {
   "cell_type": "markdown",
   "metadata": {},
   "source": [
    "### high score using unbalanced set (50+% FF)\n",
    "- **TRAINING ACCURACY HIGH SCORE:** 57.8 (91% FF)\n",
    "\n",
    "- **TEST ACCURACY HIGH SCORE:** 60.86 (88% FF) 2.5%+ naive \n",
    "\n",
    "\n",
    "- ****HYPERPARAMETERS:****\n",
    "\n",
    "    - LSTM num_layers: 1\n",
    "    \n",
    "    - OUT_SIZE: 15\n",
    "    \n",
    "    - HIDDEN_DIMENSION: 10\n",
    "    \n",
    "    - EPOCHS: 20\n",
    "   \n",
    "    - LEARNING RATE: 0.001\n",
    "    \n",
    "    - LOSS FUNCTION: NLLLOSS\n",
    "    \n",
    "    - OPTIMIZER: ADAM"
   ]
  }
 ],
 "metadata": {
  "kernelspec": {
   "display_name": "Python 3",
   "language": "python",
   "name": "python3"
  },
  "language_info": {
   "codemirror_mode": {
    "name": "ipython",
    "version": 3
   },
   "file_extension": ".py",
   "mimetype": "text/x-python",
   "name": "python",
   "nbconvert_exporter": "python",
   "pygments_lexer": "ipython3",
   "version": "3.6.7"
  }
 },
 "nbformat": 4,
 "nbformat_minor": 2
}
