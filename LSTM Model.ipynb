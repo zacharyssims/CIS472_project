{
 "cells": [
  {
   "cell_type": "markdown",
   "metadata": {},
   "source": [
    "Inspiration for Neural Net: https://pytorch.org/tutorials/beginner/nlp/sequence_models_tutorial.html"
   ]
  },
  {
   "cell_type": "markdown",
   "metadata": {},
   "source": [
    "# Data Pre-Processing"
   ]
  },
  {
   "cell_type": "code",
   "execution_count": 1,
   "metadata": {
    "scrolled": true
   },
   "outputs": [
    {
     "data": {
      "text/plain": [
       "<torch._C.Generator at 0x7f55736c3e10>"
      ]
     },
     "execution_count": 1,
     "metadata": {},
     "output_type": "execute_result"
    }
   ],
   "source": [
    "import pandas as pd\n",
    "import torch\n",
    "import torch.nn as nn\n",
    "import torch.nn.functional as F\n",
    "import torch.optim as optim\n",
    "import pitcher\n",
    "from random import shuffle\n",
    "torch.manual_seed(1)"
   ]
  },
  {
   "cell_type": "code",
   "execution_count": 2,
   "metadata": {
    "scrolled": true
   },
   "outputs": [
    {
     "name": "stderr",
     "output_type": "stream",
     "text": [
      "/home/zac/.local/lib/python3.6/site-packages/IPython/core/interactiveshell.py:3049: DtypeWarning: Columns (87,88) have mixed types. Specify dtype option on import or set low_memory=False.\n",
      "  interactivity=interactivity, compiler=compiler, result=result)\n",
      "/usr/local/lib/python3.6/dist-packages/pandas/core/frame.py:3940: SettingWithCopyWarning: \n",
      "A value is trying to be set on a copy of a slice from a DataFrame\n",
      "\n",
      "See the caveats in the documentation: http://pandas.pydata.org/pandas-docs/stable/indexing.html#indexing-view-versus-copy\n",
      "  errors=errors)\n"
     ]
    }
   ],
   "source": [
    "player = 'verlander'\n",
    "data = pd.read_csv('Data/raw_data/'+player+'.csv')\n",
    "data = pitcher.clean_data(data)\n",
    "ABs = pitcher.get_abs(data)\n",
    "reps = pitcher.get_reps(ABs)\n",
    "reps = pitcher.drop_nas(reps)\n",
    "reps = pitcher.drop_pitches(reps)"
   ]
  },
  {
   "cell_type": "code",
   "execution_count": 3,
   "metadata": {},
   "outputs": [],
   "source": [
    "shuffle(reps)"
   ]
  },
  {
   "cell_type": "code",
   "execution_count": 10,
   "metadata": {},
   "outputs": [
    {
     "data": {
      "text/plain": [
       "([[0, 0, 0, 0, 0, 0, 0, 0, 0],\n",
       "  [0, 0, 0, 0, 0, 0, 0, 0, 0],\n",
       "  [-1.0624, 2.0866, 93.2, 0.1605, 4.4675, 0, 0, 0, 1]],\n",
       " ['NA', 'NA', 'FF'],\n",
       " [1, 0, 0, 0, 0, 0, 1, 0, 0, 0, 1, 0, 1, 0, 0],\n",
       " 'CU')"
      ]
     },
     "execution_count": 10,
     "metadata": {},
     "output_type": "execute_result"
    }
   ],
   "source": [
    "reps[4]"
   ]
  },
  {
   "cell_type": "code",
   "execution_count": 10,
   "metadata": {},
   "outputs": [],
   "source": [
    "#run for less fastballs\n",
    "train = pitcher.drop_ff(reps[1:30000])\n",
    "test = reps[30000:]"
   ]
  },
  {
   "cell_type": "code",
   "execution_count": 16,
   "metadata": {},
   "outputs": [
    {
     "data": {
      "text/plain": [
       "31224.0"
      ]
     },
     "execution_count": 16,
     "metadata": {},
     "output_type": "execute_result"
    }
   ],
   "source": [
    "len(reps)*.8"
   ]
  },
  {
   "cell_type": "code",
   "execution_count": 11,
   "metadata": {},
   "outputs": [],
   "source": [
    "#run for unbiased distribution\n",
    "train = reps[1:31000]\n",
    "test = reps[31000:]"
   ]
  },
  {
   "cell_type": "code",
   "execution_count": 13,
   "metadata": {},
   "outputs": [],
   "source": [
    "# work-in-progress\n",
    "def get_batches(train,batch_size):   \n",
    "    out = []\n",
    "    i = 0\n",
    "    batch_ptypes = []\n",
    "    batch_pre_pitch = []\n",
    "    batch_prev_pitches = []\n",
    "    for rep in train:\n",
    "        prev_pitches,prev_types,pre_pitch,ptype = rep\n",
    "        if i % batch_size == 0:\n",
    "            out.append([batch_prev_pitches,batch_pre_pitch,batch_ptypes])\n",
    "            batch_ptypes = [ptype]\n",
    "            batch_pre_pitch = [pre_pitch]\n",
    "            batch_prev_pitches = [prev_pitches]\n",
    "        else:\n",
    "            batch_ptypes.append(ptype)\n",
    "            batch_pre_pitch.append(pre_pitch)\n",
    "            batch_prev_pitches.append(prev_pitches)\n",
    "        i += 1\n",
    "    return out[1:]"
   ]
  },
  {
   "cell_type": "code",
   "execution_count": 14,
   "metadata": {},
   "outputs": [],
   "source": [
    "train_batches = get_batches(train,10)\n",
    "test_batches = get_batches(test,10)"
   ]
  },
  {
   "cell_type": "code",
   "execution_count": 15,
   "metadata": {},
   "outputs": [],
   "source": [
    "def test_accuracy(batches,model):\n",
    "    length = len(batches)*len(batches[0][0])\n",
    "    num_right = 0\n",
    "    ch_count = 0\n",
    "    predict_ch = 0\n",
    "    cu_count = 0\n",
    "    predict_cu = 0\n",
    "    sl_count = 0\n",
    "    predict_sl = 0\n",
    "    ff_count = 0\n",
    "    predict_ff = 0\n",
    "    ff_right = 0\n",
    "    ch_right = 0\n",
    "    sl_right = 0\n",
    "    cu_right = 0\n",
    "    for batch in batches:\n",
    "        with torch.no_grad():\n",
    "            prev_pitches,pre_pitch, ptypes = batch\n",
    "            prevs_in = torch.tensor(prev_pitches, dtype=torch.float)\n",
    "            rep_in = torch.tensor(pre_pitch, dtype=torch.float)\n",
    "            #targets = tag_to_ix[ptypes]\n",
    "            if len(ptypes) > 1:\n",
    "                targets = [tag_to_ix[ptype] for ptype in ptypes]\n",
    "            else:\n",
    "                targets = tag_to_ix[ptypes[0]]\n",
    "            if torch.cuda.is_available():\n",
    "                tag_scores = model((prevs_in,rep_in)).cuda()\n",
    "            else:\n",
    "                tag_scores = model((prevs_in,rep_in))\n",
    "            #print(tag_scores)\n",
    "            preds = [tag_score.max(0) for tag_score in tag_scores]\n",
    "            #print(index.item())\n",
    "            if len(ptypes) > 1:\n",
    "                for pred,target in zip(preds,targets):\n",
    "                    _,index = pred\n",
    "                    if target == 1:\n",
    "                        ff_count += 1\n",
    "                    if index.item() == 1:\n",
    "                        predict_ff += 1\n",
    "                    if target == 1 and index.item() == 1:\n",
    "                        ff_right += 1\n",
    "                    if target == 0:\n",
    "                        cu_count += 1\n",
    "                    if index.item() == 0:\n",
    "                        predict_cu += 1\n",
    "                    if target == 0 and index.item() == 0:\n",
    "                        cu_right += 1\n",
    "                    if target == 2:\n",
    "                        sl_count += 1\n",
    "                    if index.item() == 2:\n",
    "                        predict_sl += 1\n",
    "                    if target == 2 and index.item() == 2:\n",
    "                        sl_right += 1\n",
    "                    if target == 3:\n",
    "                        ch_count += 1\n",
    "                    if index.item() == 3:\n",
    "                        predict_ch += 1\n",
    "                    if target == 3 and index.item() == 3:\n",
    "                        ch_right += 1\n",
    "                    if index.item() == target:\n",
    "                        num_right += 1\n",
    "            else:\n",
    "                _,index = preds[0]\n",
    "                if targets == 1:\n",
    "                    ff_count += 1\n",
    "                if index.item() == 1:\n",
    "                    predict_ff += 1\n",
    "                if targets == 1 and index.item() == 1:\n",
    "                    ff_right += 1\n",
    "                if targets == 0:\n",
    "                    cu_count += 1\n",
    "                if index.item() == 0:\n",
    "                    predict_cu += 1\n",
    "                if targets == 0 and index.item() == 0:\n",
    "                    cu_right += 1\n",
    "                if targets == 2:\n",
    "                    sl_count += 1\n",
    "                if index.item() == 2:\n",
    "                    predict_sl += 1\n",
    "                if targets == 2 and index.item() == 2:\n",
    "                    sl_right += 1\n",
    "                if targets == 3:\n",
    "                    ch_count += 1\n",
    "                if index.item() == 3:\n",
    "                    predict_ch += 1\n",
    "                if targets == 3 and index.item() == 3:\n",
    "                    ch_right += 1\n",
    "                if index.item() == targets:\n",
    "                    num_right += 1\n",
    "    ff_rate = ff_count/length\n",
    "    pred_ff_rate = predict_ff/length\n",
    "    ff_acc = ff_right/ff_count\n",
    "    cu_rate = cu_count/length\n",
    "    pred_cu_rate = predict_cu/length\n",
    "    cu_acc = cu_right/cu_count\n",
    "    sl_rate = sl_count/length\n",
    "    pred_sl_rate = predict_sl/length\n",
    "    sl_acc = sl_right/sl_count\n",
    "    ch_rate = ch_count/length\n",
    "    pred_ch_rate = predict_ch/length\n",
    "    ch_acc = ch_right/ch_count\n",
    "    accuracy = num_right/length\n",
    "    print(\"______________________________________\")\n",
    "    print(\"curve rate:\",cu_rate)\n",
    "    print(\"Predicted curve rate:\",pred_cu_rate)\n",
    "    print(\"curve accuracy:\",cu_acc)\n",
    "    print(\"______________________________________\")\n",
    "    print(\"Fourseam Fastball rate:\",ff_rate)\n",
    "    print(\"Predicted Fourseam Fastball rate:\",pred_ff_rate)\n",
    "    print(\"Fourseam Fastball accuracy:\",ff_acc)\n",
    "    print(\"______________________________________\")\n",
    "    print(\"Changeup rate:\",ch_rate)\n",
    "    print(\"Predicted changeup rate:\",pred_ch_rate)\n",
    "    print(\"changeup accuracy\",ch_acc)\n",
    "    print(\"______________________________________\")\n",
    "    print(\"slider rate:\",sl_rate)\n",
    "    print(\"Predicted slider rate:\",pred_sl_rate)\n",
    "    print(\"slider accuracy:\",sl_acc)\n",
    "    print(\"______________________________________\")\n",
    "    print(\"Accuracy:\",accuracy)\n",
    "    print(\"Accuracy above naive guess:\",accuracy - ff_rate)\n",
    "    print(\"______________________________________\")\n",
    "    "
   ]
  },
  {
   "cell_type": "markdown",
   "metadata": {},
   "source": [
    "# Model Construction"
   ]
  },
  {
   "cell_type": "code",
   "execution_count": 24,
   "metadata": {},
   "outputs": [],
   "source": [
    "#change this for different pitcher\n",
    "tag_to_ix = {'CU':0,\n",
    "             'FF':1,\n",
    "             'SL':2,\n",
    "             'CH':3} \n",
    "\n",
    "# -- Input Dimensions -- DO NOT CHANGE\n",
    "PREV_PITCH_DIM = 9\n",
    "NUM_PREV_PITCHES = 3\n",
    "GAME_STATE_DIM = 15 \n",
    "GAME_OUT_DIM = 3\n",
    "\n",
    "# -- Hyperparameters -- DO CHANGE \n",
    "HIDDEN_DIM = 5\n",
    "OUT_DIM = 3\n",
    "batch_size = 10\n",
    "lstm_layers = 1\n",
    "learning_rate = 0.005\n",
    "\n",
    "if torch.cuda.is_available():\n",
    "    torch.set_default_tensor_type(torch.cuda.FloatTensor)\n",
    "    \n",
    "class PitchPredict(nn.Module):\n",
    "    def __init__(self, prev_pitch_dim, hidden_dim, num_prev_pitches,out_dim, game_state_dim, game_out_dim, num_ptypes):\n",
    "        super(PitchPredict, self).__init__()\n",
    "        #get constants\n",
    "        self.hidden_dim = hidden_dim\n",
    "        self.prev_pitch_dim = prev_pitch_dim\n",
    "        self.num_prev_pitches = num_prev_pitches\n",
    "        self.out_dim = out_dim\n",
    "        self.game_state_dim = game_state_dim\n",
    "        self.game_out_dim = game_out_dim\n",
    "        \n",
    "        ####Define Layers####\n",
    "        \n",
    "        ########################## LSTM for past five pitches#######################################\n",
    "        # The LSTM takes previous pitch vectors as inputs, and outputs hidden states\n",
    "        # with dimensionality hidden_dim.\n",
    "        self.lstm = nn.LSTM(prev_pitch_dim, hidden_dim,num_layers=lstm_layers,batch_first=True)#FIDDLE WITH num_layers\n",
    "\n",
    "        # The linear layer that maps from hidden state space to a vector\n",
    "        # with dimensionality OUT_DIM\n",
    "        self.hidden2out = nn.Linear(hidden_dim, out_dim)\n",
    "        \n",
    "        ############## FULLY CONNECTED LAYERS for LSTM OUTPUT + game_state vector #################\n",
    "        \n",
    "        # layer to map the game state vector to a different dimension\n",
    "        self.l1 = nn.Linear(self.game_state_dim, self.game_out_dim)  \n",
    "        \n",
    "        # This Fully connected layer maps from the output of the final hidden layer output from the LSTM,\n",
    "        # dimension = OUT_DIM, with the game state vector, dimension = GAME_STATE_DIM\n",
    "        # to a vector of length of the number of ptypes to pass through softmax for probabilities\n",
    "        self.fc1 = nn.Linear((self.out_dim + self.game_out_dim), num_ptypes)\n",
    "\n",
    "                             \n",
    "    def forward(self, rep):\n",
    "        past_pitches,game_state = rep\n",
    "        lstm_out, _ = self.lstm(past_pitches.view(batch_size,self.num_prev_pitches, -1))\n",
    "        learned_rep = self.hidden2out(lstm_out.view(batch_size,self.num_prev_pitches, -1))\n",
    "        encoding = F.relu(learned_rep[:,self.num_prev_pitches - 1:,:])\n",
    "        game_rep = game_state.view(batch_size,self.game_state_dim)\n",
    "        game_rep = self.l1(game_state.view(batch_size,self.game_state_dim))\n",
    "        game_rep = F.relu(game_rep)\n",
    "        encoding = learned_rep[:,self.num_prev_pitches - 1:,:]\n",
    "        fc_in = torch.cat((encoding.view(batch_size,self.out_dim),game_rep.view(batch_size,self.game_out_dim)),dim=1)\n",
    "        fc = self.fc1(fc_in.view(batch_size,self.game_out_dim+self.out_dim))\n",
    "        tag_scores = F.log_softmax(fc,dim=0)\n",
    "        return tag_scores"
   ]
  },
  {
   "cell_type": "markdown",
   "metadata": {},
   "source": [
    "# Training and Testing"
   ]
  },
  {
   "cell_type": "code",
   "execution_count": 25,
   "metadata": {
    "scrolled": false
   },
   "outputs": [
    {
     "name": "stdout",
     "output_type": "stream",
     "text": [
      "***************Pre-Training Accuracy*****************\n",
      "______________________________________\n",
      "curve rate: 0.16450467892868667\n",
      "Predicted curve rate: 0.21881252016779607\n",
      "curve accuracy: 0.21086700666928207\n",
      "______________________________________\n",
      "Fourseam Fastball rate: 0.5888028396256857\n",
      "Predicted Fourseam Fastball rate: 0.13714101323007422\n",
      "Fourseam Fastball accuracy: 0.1255548857346413\n",
      "______________________________________\n",
      "Changeup rate: 0.12039367537915456\n",
      "Predicted changeup rate: 0.31148757663762505\n",
      "changeup accuracy 0.31868131868131866\n",
      "______________________________________\n",
      "slider rate: 0.12629880606647306\n",
      "Predicted slider rate: 0.33255888996450467\n",
      "slider accuracy: 0.2537046499744507\n",
      "______________________________________\n",
      "Accuracy: 0.17902549209422394\n",
      "Accuracy above naive guess: -0.4097773475314618\n",
      "______________________________________\n",
      "**************************Training*****************************\n",
      "epoch: 1 loss: 2.164393424987793\n",
      "epoch: 2 loss: 2.152683734893799\n",
      "epoch: 3 loss: 2.1576876640319824\n",
      "epoch: 4 loss: 2.135793685913086\n",
      "epoch: 5 loss: 2.1263113021850586\n",
      "epoch: 6 loss: 2.121446132659912\n",
      "epoch: 7 loss: 2.1127583980560303\n",
      "epoch: 8 loss: 2.113543748855591\n",
      "epoch: 9 loss: 2.107426166534424\n",
      "epoch: 10 loss: 2.1113622188568115\n",
      "****************Post-Training Accuracy********************\n",
      "______________________________________\n",
      "curve rate: 0.16450467892868667\n",
      "Predicted curve rate: 0.23381736043885123\n",
      "curve accuracy: 0.3907414672420557\n",
      "______________________________________\n",
      "Fourseam Fastball rate: 0.5888028396256857\n",
      "Predicted Fourseam Fastball rate: 0.1669570829299774\n",
      "Fourseam Fastball accuracy: 0.22025538444675838\n",
      "______________________________________\n",
      "Changeup rate: 0.12039367537915456\n",
      "Predicted changeup rate: 0.31242336237495966\n",
      "changeup accuracy 0.5398016617528812\n",
      "______________________________________\n",
      "slider rate: 0.12629880606647306\n",
      "Predicted slider rate: 0.2868021942562117\n",
      "slider accuracy: 0.5227388860500767\n",
      "______________________________________\n",
      "Accuracy: 0.3249757986447241\n",
      "Accuracy above naive guess: -0.2638270409809616\n",
      "______________________________________\n",
      "**********************************************************\n"
     ]
    }
   ],
   "source": [
    "model = PitchPredict(PREV_PITCH_DIM, HIDDEN_DIM, NUM_PREV_PITCHES, OUT_DIM, GAME_STATE_DIM, GAME_OUT_DIM, len(tag_to_ix))\n",
    "loss_function = nn.NLLLoss()\n",
    "optimizer = optim.Adam(model.parameters(), lr=learning_rate)#FIDDLE WITH LEARNING RATE (lr)\n",
    "\n",
    "# See what the scores are before training\n",
    "# Note that element i,j of the output is the score for tag j for word i.\n",
    "# Here we don't need to train, so the code is wrapped in torch.no_grad()\n",
    "with torch.no_grad():\n",
    "    print(\"***************Pre-Training Accuracy*****************\")\n",
    "    test_accuracy(train_batches,model)\n",
    "print(\"**************************Training*****************************\")\n",
    "for epoch in range(10):\n",
    "    #shuffle(train_batches)\n",
    "    for batch in train_batches:\n",
    "        prev_pitches,pre_pitch, ptypes = batch\n",
    "        \n",
    "        # Step 1. Remember that Pytorch accumulates gradients.\n",
    "        # We need to clear them out before each instance\n",
    "        model.zero_grad()\n",
    "\n",
    "        #get input tensors ready\n",
    "        prevs_in = torch.tensor(prev_pitches, dtype=torch.float)\n",
    "        game_state_in = torch.tensor(pre_pitch, dtype=torch.float)\n",
    "        \n",
    "        #get target value\n",
    "        #target = tag_to_ix[ptype]\n",
    "        target = [ tag_to_ix[ptype] for ptype in ptypes]\n",
    "\n",
    "        # Step 3. Run our forward pass.\n",
    "        if torch.cuda.is_available():\n",
    "            tag_scores = model((prevs_in,game_state_in)).cuda()\n",
    "        else:\n",
    "            tag_scores = model((prevs_in,game_state_in))\n",
    "               \n",
    "        # Step 4. Compute the loss, gradients, and update the parameters by\n",
    "        #  calling optimizer.step()\n",
    "        loss = loss_function(tag_scores.view(batch_size,-1), torch.tensor(target,dtype=torch.long))\n",
    "        loss.backward()\n",
    "        optimizer.step()\n",
    "        \n",
    "        preds = [tag_score.max(0) for tag_score in tag_scores]\n",
    "\n",
    "                \n",
    "    #display post-epoch results\n",
    "    print('epoch:',epoch+1,\"loss:\",loss.item())\n",
    "\n",
    "# See what the scores are after training\n",
    "with torch.no_grad():\n",
    "    print(\"****************Post-Training Accuracy********************\")\n",
    "    test_accuracy(train_batches,model.eval())\n",
    "    print(\"**********************************************************\")"
   ]
  },
  {
   "cell_type": "code",
   "execution_count": 26,
   "metadata": {
    "scrolled": true
   },
   "outputs": [
    {
     "name": "stdout",
     "output_type": "stream",
     "text": [
      "****************Test Accuracy********************\n",
      "______________________________________\n",
      "curve rate: 0.17630922693266832\n",
      "Predicted curve rate: 0.235286783042394\n",
      "curve accuracy: 0.3939179632248939\n",
      "______________________________________\n",
      "Fourseam Fastball rate: 0.5825436408977556\n",
      "Predicted Fourseam Fastball rate: 0.16571072319201996\n",
      "Fourseam Fastball accuracy: 0.21789383561643835\n",
      "______________________________________\n",
      "Changeup rate: 0.11334164588528678\n",
      "Predicted changeup rate: 0.3104738154613466\n",
      "changeup accuracy 0.5390539053905391\n",
      "______________________________________\n",
      "slider rate: 0.12780548628428928\n",
      "Predicted slider rate: 0.2885286783042394\n",
      "slider accuracy: 0.5229268292682927\n",
      "______________________________________\n",
      "Accuracy: 0.3243142144638404\n",
      "Accuracy above naive guess: -0.25822942643391517\n",
      "______________________________________\n",
      "**********************************************************\n"
     ]
    }
   ],
   "source": [
    "with torch.no_grad():\n",
    "    print(\"****************Test Accuracy********************\")\n",
    "    test_accuracy(test_batches,model)\n",
    "    print(\"**********************************************************\")"
   ]
  },
  {
   "cell_type": "markdown",
   "metadata": {},
   "source": [
    "### high score using balanced set (25% FF)\n",
    "- **TRAINING ACCURACY HIGH SCORE:** 38 (39% FF)\n",
    "\n",
    "- **TEST ACCURACY HIGH SCORE:** 43.7 (37% FF) -14%- naive \n",
    "\n",
    "\n",
    "- ****HYPERPARAMETERS:****\n",
    "\n",
    "    - LSTM num_layers: 1\n",
    "    \n",
    "    - OUT_SIZE: 15\n",
    "    \n",
    "    - HIDDEN_DIMENSION: 10\n",
    "    \n",
    "    - EPOCHS: 5\n",
    "   \n",
    "    - LEARNING RATE: 0.001\n",
    "    \n",
    "    - LOSS FUNCTION: NLLLOSS\n",
    "    \n",
    "    - OPTIMIZER: ADAM"
   ]
  },
  {
   "cell_type": "markdown",
   "metadata": {},
   "source": [
    "### high score using unbalanced set (50+% FF)\n",
    "- **TRAINING ACCURACY HIGH SCORE:** 57.8 (91% FF)\n",
    "\n",
    "- **TEST ACCURACY HIGH SCORE:** 60.86 (88% FF) 2.5%+ naive \n",
    "\n",
    "\n",
    "- ****HYPERPARAMETERS:****\n",
    "\n",
    "    - LSTM num_layers: 1\n",
    "    \n",
    "    - OUT_SIZE: 15\n",
    "    \n",
    "    - HIDDEN_DIMENSION: 10\n",
    "    \n",
    "    - EPOCHS: 20\n",
    "   \n",
    "    - LEARNING RATE: 0.001\n",
    "    \n",
    "    - LOSS FUNCTION: NLLLOSS\n",
    "    \n",
    "    - OPTIMIZER: ADAM"
   ]
  }
 ],
 "metadata": {
  "kernelspec": {
   "display_name": "Python 3",
   "language": "python",
   "name": "python3"
  },
  "language_info": {
   "codemirror_mode": {
    "name": "ipython",
    "version": 3
   },
   "file_extension": ".py",
   "mimetype": "text/x-python",
   "name": "python",
   "nbconvert_exporter": "python",
   "pygments_lexer": "ipython3",
   "version": "3.6.7"
  }
 },
 "nbformat": 4,
 "nbformat_minor": 2
}
