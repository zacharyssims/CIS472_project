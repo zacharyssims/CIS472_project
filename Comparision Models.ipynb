{
 "cells": [
  {
   "cell_type": "code",
   "execution_count": 1,
   "metadata": {},
   "outputs": [],
   "source": [
    "import pandas as pd\n",
    "import pitcher\n",
    "import sklearn"
   ]
  },
  {
   "cell_type": "code",
   "execution_count": 2,
   "metadata": {},
   "outputs": [
    {
     "name": "stderr",
     "output_type": "stream",
     "text": [
      "/home/zac/.local/lib/python3.6/site-packages/IPython/core/interactiveshell.py:3049: DtypeWarning: Columns (87,88) have mixed types. Specify dtype option on import or set low_memory=False.\n",
      "  interactivity=interactivity, compiler=compiler, result=result)\n",
      "/usr/local/lib/python3.6/dist-packages/pandas/core/frame.py:3940: SettingWithCopyWarning: \n",
      "A value is trying to be set on a copy of a slice from a DataFrame\n",
      "\n",
      "See the caveats in the documentation: http://pandas.pydata.org/pandas-docs/stable/indexing.html#indexing-view-versus-copy\n",
      "  errors=errors)\n"
     ]
    }
   ],
   "source": [
    "#currently these functions will only grab pitches CU, FF, SL, and CH so only use verlander and scherzer datasets\n",
    "player = 'verlander'\n",
    "data = pd.read_csv('Data/raw_data/'+player+'.csv')\n",
    "data = pitcher.clean_data(data)\n",
    "ABs = pitcher.get_abs(data)\n",
    "reps = pitcher.get_reps(ABs)\n",
    "reps = pitcher.drop_nas(reps)"
   ]
  },
  {
   "cell_type": "code",
   "execution_count": 3,
   "metadata": {},
   "outputs": [],
   "source": [
    "data = []\n",
    "for rep in reps:\n",
    "    row = []\n",
    "    prev_pitches,prev_types,pre_pitch,ptype = rep\n",
    "    prevs = []\n",
    "    for prev in prev_pitches:\n",
    "        prevs += prev\n",
    "    row += prevs + pre_pitch + [ptype]\n",
    "    data.append(row)"
   ]
  },
  {
   "cell_type": "markdown",
   "metadata": {},
   "source": [
    "running the cell above to get 'data' gives a list of rows each of length 91, which represents the 3 length 25 vectors plus the one length 15 vector plus the pitch type, i.e. the inputs to the network."
   ]
  },
  {
   "cell_type": "markdown",
   "metadata": {},
   "source": [
    "Each row of data now consists of:\n",
    "- three previous pitch vectors (length 25) of at-bat, if the pitch-to-be-predicted is the first, second, or third pitch the at-bat, the previous empty spots will be filled with zeroes.\n",
    "- one game state vector (length 15) representing the game state of the pitch-to-be-predicted\n",
    "- the pitch-to-be-predicted 'NF' or 'FF', not-fastball or fourseam-fastball"
   ]
  },
  {
   "cell_type": "code",
   "execution_count": 4,
   "metadata": {},
   "outputs": [],
   "source": [
    "#get train and test data\n",
    "length = len(data[0]) - 1\n",
    "Y = []\n",
    "X = []\n",
    "for row in data:\n",
    "    X.append(row[75:length])\n",
    "    if row[length] == 'NF':\n",
    "        Y.append(0)\n",
    "    else:\n",
    "        Y.append(1)\n",
    "X_train = X[:int(len(X)*0.8)]\n",
    "X_test = X[int(len(X)*0.8):]\n",
    "Y_train = Y[:int(len(Y)*0.8)]\n",
    "Y_test = Y[int(len(Y)*0.8):]"
   ]
  },
  {
   "cell_type": "code",
   "execution_count": 5,
   "metadata": {},
   "outputs": [
    {
     "name": "stdout",
     "output_type": "stream",
     "text": [
      "*********DECISION TREE RESULTS*************\n",
      "Accuracy above naive guess: 0.605369807497467 0.020516717325227973\n"
     ]
    }
   ],
   "source": [
    "#Decision Tree - works best with just game state \n",
    "from sklearn import tree\n",
    "clf = tree.DecisionTreeClassifier()\n",
    "clf.fit(X_train, Y_train)\n",
    "clf.predict_proba(X_test)\n",
    "print(\"*********DECISION TREE RESULTS*************\")\n",
    "print(\"Accuracy above naive guess:\",clf.score(X_test, Y_test),clf.score(X_test, Y_test) - sum(Y_test)/len(Y_test))"
   ]
  },
  {
   "cell_type": "code",
   "execution_count": 6,
   "metadata": {},
   "outputs": [],
   "source": [
    "#rest of models will use full input\n",
    "length = len(data[0]) - 1\n",
    "Y = []\n",
    "X = []\n",
    "for row in data:\n",
    "    X.append(row[0:length])\n",
    "    if row[length] == 'NF':\n",
    "        Y.append(0)\n",
    "    else:\n",
    "        Y.append(1)\n",
    "X_train = X[:int(len(X)*0.8)]\n",
    "X_test = X[int(len(X)*0.8):]\n",
    "Y_train = Y[:int(len(Y)*0.8)]\n",
    "Y_test = Y[int(len(Y)*0.8):]"
   ]
  },
  {
   "cell_type": "code",
   "execution_count": 7,
   "metadata": {
    "scrolled": true
   },
   "outputs": [
    {
     "name": "stdout",
     "output_type": "stream",
     "text": [
      "*********LOGISTIC REGRESSION RESULTS*************\n",
      "Accuracy above naive guess: 0.6388044579533941 0.05395136778115506\n"
     ]
    },
    {
     "name": "stderr",
     "output_type": "stream",
     "text": [
      "/usr/local/lib/python3.6/dist-packages/sklearn/linear_model/logistic.py:758: ConvergenceWarning: lbfgs failed to converge. Increase the number of iterations.\n",
      "  \"of iterations.\", ConvergenceWarning)\n"
     ]
    }
   ],
   "source": [
    "#Logistic Regression\n",
    "from sklearn.linear_model import LogisticRegression\n",
    "clf = LogisticRegression(random_state=0, solver='lbfgs',multi_class='ovr').fit(X_train, Y_train)\n",
    "rslt = clf.predict_proba(X_test)\n",
    "print(\"*********LOGISTIC REGRESSION RESULTS*************\")\n",
    "print(\"Accuracy above naive guess:\",clf.score(X_test, Y_test),clf.score(X_test, Y_test) - sum(Y_test)/len(Y_test))"
   ]
  },
  {
   "cell_type": "code",
   "execution_count": 8,
   "metadata": {},
   "outputs": [
    {
     "name": "stdout",
     "output_type": "stream",
     "text": [
      "*********SVM RESULTS*************\n",
      "Accuracy above naive guess: 0.6152482269503546 0.03039513677811556\n"
     ]
    }
   ],
   "source": [
    "#SVM\n",
    "from sklearn import svm\n",
    "clf = svm.SVC(gamma='scale').fit(X_train, Y_train)\n",
    "rslt = clf.predict(X_test)\n",
    "right = 0\n",
    "for pred,tar in zip(rslt,Y_test):\n",
    "    if pred == tar:\n",
    "        right += 1\n",
    "print(\"*********SVM RESULTS*************\")\n",
    "print(\"Accuracy above naive guess:\",right/len(rslt),right/len(rslt) - sum(Y_test)/len(Y_test))"
   ]
  }
 ],
 "metadata": {
  "kernelspec": {
   "display_name": "Python 3",
   "language": "python",
   "name": "python3"
  },
  "language_info": {
   "codemirror_mode": {
    "name": "ipython",
    "version": 3
   },
   "file_extension": ".py",
   "mimetype": "text/x-python",
   "name": "python",
   "nbconvert_exporter": "python",
   "pygments_lexer": "ipython3",
   "version": "3.6.7"
  }
 },
 "nbformat": 4,
 "nbformat_minor": 2
}
