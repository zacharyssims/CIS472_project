{
 "cells": [
  {
   "cell_type": "code",
   "execution_count": 2,
   "metadata": {},
   "outputs": [],
   "source": [
    "import pandas as pd\n",
    "import pitcher"
   ]
  },
  {
   "cell_type": "code",
   "execution_count": 5,
   "metadata": {},
   "outputs": [],
   "source": [
    "#currently these functions will only grab pitches CU, FF, SL, and CH so only use verlander and scherzer datasets\n",
    "player = 'scherzer'\n",
    "data = pd.read_csv('Data/raw_data/'+player+'.csv')\n",
    "data = pitcher.clean_data(data)\n",
    "ABs = pitcher.get_abs(data)\n",
    "reps = pitcher.get_reps(ABs)\n",
    "reps = pitcher.drop_nas(reps)"
   ]
  },
  {
   "cell_type": "code",
   "execution_count": 6,
   "metadata": {},
   "outputs": [],
   "source": [
    "data = []\n",
    "for rep in reps:\n",
    "    row = []\n",
    "    prev_pitches,prev_types,pre_pitch,ptype = rep\n",
    "    prevs = []\n",
    "    for prev in prev_pitches:\n",
    "        prevs += prev\n",
    "    row += prevs + pre_pitch + [ptype]\n",
    "    data.append(row)"
   ]
  },
  {
   "cell_type": "markdown",
   "metadata": {},
   "source": [
    "Each row of data now consists of:\n",
    "- three previous pitch vectors (length 9) of at-bat, if the pitch-to-be-predicted is the first, second, or third pitch the at-bat, the previous empty spots will be filled with zeroes.\n",
    "- one game state vector (length 15) representing the game state of the pitch-to-be-predicted\n",
    "- the pitch-to-be-predicted 'NF' or 'FF', not-fastball or fourseam-fastball"
   ]
  },
  {
   "cell_type": "markdown",
   "metadata": {},
   "source": [
    "running the cell above to get 'data' gives a list of rows each of length 43, which represents the 3 length 9 vectors plus the one length 15 vector plus the pitch type, i.e. the inputs to the network."
   ]
  }
 ],
 "metadata": {
  "kernelspec": {
   "display_name": "Python 3",
   "language": "python",
   "name": "python3"
  },
  "language_info": {
   "codemirror_mode": {
    "name": "ipython",
    "version": 3
   },
   "file_extension": ".py",
   "mimetype": "text/x-python",
   "name": "python",
   "nbconvert_exporter": "python",
   "pygments_lexer": "ipython3",
   "version": "3.6.7"
  }
 },
 "nbformat": 4,
 "nbformat_minor": 2
}
